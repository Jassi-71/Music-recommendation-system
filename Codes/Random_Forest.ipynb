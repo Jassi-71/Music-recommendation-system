{
  "nbformat": 4,
  "nbformat_minor": 0,
  "metadata": {
    "colab": {
      "name": "ML_Model_Random_Forest",
      "provenance": []
    },
    "kernelspec": {
      "name": "python3",
      "display_name": "Python 3"
    },
    "language_info": {
      "name": "python"
    }
  },
  "cells": [
    {
      "cell_type": "code",
      "execution_count": 1,
      "metadata": {
        "colab": {
          "base_uri": "https://localhost:8080/"
        },
        "id": "9mjgdYuh9UE1",
        "outputId": "19701f9d-b322-4fff-9dfd-a101fdee0a35"
      },
      "outputs": [
        {
          "output_type": "stream",
          "name": "stdout",
          "text": [
            "Mounted at /content/drive\n"
          ]
        }
      ],
      "source": [
        "from google.colab import drive \n",
        "drive.mount('/content/drive')"
      ]
    },
    {
      "cell_type": "code",
      "source": [
        "import pandas as pd\n",
        "import os\n",
        "import numpy as np\n",
        "import warnings\n",
        "from sklearn.model_selection import train_test_split \n",
        "from sklearn.ensemble import RandomForestClassifier\n",
        "from sklearn.metrics import accuracy_score,precision_score,recall_score,confusion_matrix\n",
        "warnings.filterwarnings('ignore')\n",
        "from sklearn.metrics import classification_report\n",
        "from sklearn.model_selection import RandomizedSearchCV\n",
        "from sklearn.model_selection import GridSearchCV\n",
        "from sklearn.model_selection import cross_validate\n",
        "from sklearn.model_selection import cross_val_score\n",
        "from sklearn.model_selection import KFold, StratifiedKFold, cross_val_score\n",
        "from sklearn.model_selection import validation_curve\n",
        "import matplotlib.pyplot as plt"
      ],
      "metadata": {
        "id": "hItF6mXJ9Yip"
      },
      "execution_count": 2,
      "outputs": []
    },
    {
      "cell_type": "markdown",
      "source": [
        "### Data Loading"
      ],
      "metadata": {
        "id": "ruhUJkpRNteL"
      }
    },
    {
      "cell_type": "code",
      "source": [
        "df=pd.read_csv('/content/drive/MyDrive/Colab Notebooks/Data/rms_mel.csv')\n",
        "df.head()"
      ],
      "metadata": {
        "colab": {
          "base_uri": "https://localhost:8080/",
          "height": 300
        },
        "id": "SG-vxpQD9YfX",
        "outputId": "1ae5c12a-e32d-4ebf-c4e1-f756630ae533"
      },
      "execution_count": 3,
      "outputs": [
        {
          "output_type": "execute_result",
          "data": {
            "text/plain": [
              "   genre        file_name  rms_mean   rms_var  chroma_stft_mean  \\\n",
              "0  blues  blues.00000.wav  0.127820  0.003445          0.409089   \n",
              "1  blues  blues.00001.wav  0.093903  0.002756          0.438725   \n",
              "2  blues  blues.00002.wav  0.173220  0.003548          0.420921   \n",
              "3  blues  blues.00003.wav  0.138990  0.006927          0.547953   \n",
              "4  blues  blues.00004.wav  0.089781  0.002618          0.334440   \n",
              "\n",
              "   chroma_stft_var  spectral_centroid_mean  spectral_centroid_var  \\\n",
              "0         0.089115             1727.351474          142000.224759   \n",
              "1         0.092898             1450.864079          378294.241015   \n",
              "2         0.084918             1493.930518          175858.135048   \n",
              "3         0.071065              996.820708          183117.456205   \n",
              "4         0.087125             1749.111185          359184.325599   \n",
              "\n",
              "   spectral_bandwidth  spectral_bandwidth.1  ...  mel_spec11  mel_spec12  \\\n",
              "0         1965.724086          91115.763237  ...  -11.619318  -13.248830   \n",
              "1         1972.260927         228136.751110  ...  -23.548323  -24.655277   \n",
              "2         1698.946080          94216.071611  ...   -9.212287  -13.057380   \n",
              "3         1524.151953         177087.696285  ...  -23.135990  -25.736160   \n",
              "4         1699.714246         105136.447967  ...  -16.692339  -18.763874   \n",
              "\n",
              "   mel_spec13  mel_spec14  mel_spec15  mel_spec16  mel_spec17  mel_spec18  \\\n",
              "0  -15.205503  -17.721975  -21.459818  -23.451105  -25.575070  -26.389164   \n",
              "1  -26.339476  -28.471700  -33.291893  -33.236996  -32.744590  -32.470802   \n",
              "2  -16.085901  -16.665873  -19.833254  -22.363142  -24.911274  -27.586584   \n",
              "3  -29.430140  -30.392696  -32.626990  -35.162300  -36.888172  -38.613697   \n",
              "4  -21.235283  -20.536680  -22.504978  -25.444075  -28.113205  -32.240480   \n",
              "\n",
              "   mel_spec19  mel_spec20  \n",
              "0  -29.996510  -38.826023  \n",
              "1  -35.806477  -44.577250  \n",
              "2  -31.426540  -40.359447  \n",
              "3  -41.235264  -48.588070  \n",
              "4  -38.584164  -48.707350  \n",
              "\n",
              "[5 rows x 43 columns]"
            ],
            "text/html": [
              "\n",
              "  <div id=\"df-74d9ea5b-e003-437f-a4ef-b0e1dba6fad0\">\n",
              "    <div class=\"colab-df-container\">\n",
              "      <div>\n",
              "<style scoped>\n",
              "    .dataframe tbody tr th:only-of-type {\n",
              "        vertical-align: middle;\n",
              "    }\n",
              "\n",
              "    .dataframe tbody tr th {\n",
              "        vertical-align: top;\n",
              "    }\n",
              "\n",
              "    .dataframe thead th {\n",
              "        text-align: right;\n",
              "    }\n",
              "</style>\n",
              "<table border=\"1\" class=\"dataframe\">\n",
              "  <thead>\n",
              "    <tr style=\"text-align: right;\">\n",
              "      <th></th>\n",
              "      <th>genre</th>\n",
              "      <th>file_name</th>\n",
              "      <th>rms_mean</th>\n",
              "      <th>rms_var</th>\n",
              "      <th>chroma_stft_mean</th>\n",
              "      <th>chroma_stft_var</th>\n",
              "      <th>spectral_centroid_mean</th>\n",
              "      <th>spectral_centroid_var</th>\n",
              "      <th>spectral_bandwidth</th>\n",
              "      <th>spectral_bandwidth.1</th>\n",
              "      <th>...</th>\n",
              "      <th>mel_spec11</th>\n",
              "      <th>mel_spec12</th>\n",
              "      <th>mel_spec13</th>\n",
              "      <th>mel_spec14</th>\n",
              "      <th>mel_spec15</th>\n",
              "      <th>mel_spec16</th>\n",
              "      <th>mel_spec17</th>\n",
              "      <th>mel_spec18</th>\n",
              "      <th>mel_spec19</th>\n",
              "      <th>mel_spec20</th>\n",
              "    </tr>\n",
              "  </thead>\n",
              "  <tbody>\n",
              "    <tr>\n",
              "      <th>0</th>\n",
              "      <td>blues</td>\n",
              "      <td>blues.00000.wav</td>\n",
              "      <td>0.127820</td>\n",
              "      <td>0.003445</td>\n",
              "      <td>0.409089</td>\n",
              "      <td>0.089115</td>\n",
              "      <td>1727.351474</td>\n",
              "      <td>142000.224759</td>\n",
              "      <td>1965.724086</td>\n",
              "      <td>91115.763237</td>\n",
              "      <td>...</td>\n",
              "      <td>-11.619318</td>\n",
              "      <td>-13.248830</td>\n",
              "      <td>-15.205503</td>\n",
              "      <td>-17.721975</td>\n",
              "      <td>-21.459818</td>\n",
              "      <td>-23.451105</td>\n",
              "      <td>-25.575070</td>\n",
              "      <td>-26.389164</td>\n",
              "      <td>-29.996510</td>\n",
              "      <td>-38.826023</td>\n",
              "    </tr>\n",
              "    <tr>\n",
              "      <th>1</th>\n",
              "      <td>blues</td>\n",
              "      <td>blues.00001.wav</td>\n",
              "      <td>0.093903</td>\n",
              "      <td>0.002756</td>\n",
              "      <td>0.438725</td>\n",
              "      <td>0.092898</td>\n",
              "      <td>1450.864079</td>\n",
              "      <td>378294.241015</td>\n",
              "      <td>1972.260927</td>\n",
              "      <td>228136.751110</td>\n",
              "      <td>...</td>\n",
              "      <td>-23.548323</td>\n",
              "      <td>-24.655277</td>\n",
              "      <td>-26.339476</td>\n",
              "      <td>-28.471700</td>\n",
              "      <td>-33.291893</td>\n",
              "      <td>-33.236996</td>\n",
              "      <td>-32.744590</td>\n",
              "      <td>-32.470802</td>\n",
              "      <td>-35.806477</td>\n",
              "      <td>-44.577250</td>\n",
              "    </tr>\n",
              "    <tr>\n",
              "      <th>2</th>\n",
              "      <td>blues</td>\n",
              "      <td>blues.00002.wav</td>\n",
              "      <td>0.173220</td>\n",
              "      <td>0.003548</td>\n",
              "      <td>0.420921</td>\n",
              "      <td>0.084918</td>\n",
              "      <td>1493.930518</td>\n",
              "      <td>175858.135048</td>\n",
              "      <td>1698.946080</td>\n",
              "      <td>94216.071611</td>\n",
              "      <td>...</td>\n",
              "      <td>-9.212287</td>\n",
              "      <td>-13.057380</td>\n",
              "      <td>-16.085901</td>\n",
              "      <td>-16.665873</td>\n",
              "      <td>-19.833254</td>\n",
              "      <td>-22.363142</td>\n",
              "      <td>-24.911274</td>\n",
              "      <td>-27.586584</td>\n",
              "      <td>-31.426540</td>\n",
              "      <td>-40.359447</td>\n",
              "    </tr>\n",
              "    <tr>\n",
              "      <th>3</th>\n",
              "      <td>blues</td>\n",
              "      <td>blues.00003.wav</td>\n",
              "      <td>0.138990</td>\n",
              "      <td>0.006927</td>\n",
              "      <td>0.547953</td>\n",
              "      <td>0.071065</td>\n",
              "      <td>996.820708</td>\n",
              "      <td>183117.456205</td>\n",
              "      <td>1524.151953</td>\n",
              "      <td>177087.696285</td>\n",
              "      <td>...</td>\n",
              "      <td>-23.135990</td>\n",
              "      <td>-25.736160</td>\n",
              "      <td>-29.430140</td>\n",
              "      <td>-30.392696</td>\n",
              "      <td>-32.626990</td>\n",
              "      <td>-35.162300</td>\n",
              "      <td>-36.888172</td>\n",
              "      <td>-38.613697</td>\n",
              "      <td>-41.235264</td>\n",
              "      <td>-48.588070</td>\n",
              "    </tr>\n",
              "    <tr>\n",
              "      <th>4</th>\n",
              "      <td>blues</td>\n",
              "      <td>blues.00004.wav</td>\n",
              "      <td>0.089781</td>\n",
              "      <td>0.002618</td>\n",
              "      <td>0.334440</td>\n",
              "      <td>0.087125</td>\n",
              "      <td>1749.111185</td>\n",
              "      <td>359184.325599</td>\n",
              "      <td>1699.714246</td>\n",
              "      <td>105136.447967</td>\n",
              "      <td>...</td>\n",
              "      <td>-16.692339</td>\n",
              "      <td>-18.763874</td>\n",
              "      <td>-21.235283</td>\n",
              "      <td>-20.536680</td>\n",
              "      <td>-22.504978</td>\n",
              "      <td>-25.444075</td>\n",
              "      <td>-28.113205</td>\n",
              "      <td>-32.240480</td>\n",
              "      <td>-38.584164</td>\n",
              "      <td>-48.707350</td>\n",
              "    </tr>\n",
              "  </tbody>\n",
              "</table>\n",
              "<p>5 rows × 43 columns</p>\n",
              "</div>\n",
              "      <button class=\"colab-df-convert\" onclick=\"convertToInteractive('df-74d9ea5b-e003-437f-a4ef-b0e1dba6fad0')\"\n",
              "              title=\"Convert this dataframe to an interactive table.\"\n",
              "              style=\"display:none;\">\n",
              "        \n",
              "  <svg xmlns=\"http://www.w3.org/2000/svg\" height=\"24px\"viewBox=\"0 0 24 24\"\n",
              "       width=\"24px\">\n",
              "    <path d=\"M0 0h24v24H0V0z\" fill=\"none\"/>\n",
              "    <path d=\"M18.56 5.44l.94 2.06.94-2.06 2.06-.94-2.06-.94-.94-2.06-.94 2.06-2.06.94zm-11 1L8.5 8.5l.94-2.06 2.06-.94-2.06-.94L8.5 2.5l-.94 2.06-2.06.94zm10 10l.94 2.06.94-2.06 2.06-.94-2.06-.94-.94-2.06-.94 2.06-2.06.94z\"/><path d=\"M17.41 7.96l-1.37-1.37c-.4-.4-.92-.59-1.43-.59-.52 0-1.04.2-1.43.59L10.3 9.45l-7.72 7.72c-.78.78-.78 2.05 0 2.83L4 21.41c.39.39.9.59 1.41.59.51 0 1.02-.2 1.41-.59l7.78-7.78 2.81-2.81c.8-.78.8-2.07 0-2.86zM5.41 20L4 18.59l7.72-7.72 1.47 1.35L5.41 20z\"/>\n",
              "  </svg>\n",
              "      </button>\n",
              "      \n",
              "  <style>\n",
              "    .colab-df-container {\n",
              "      display:flex;\n",
              "      flex-wrap:wrap;\n",
              "      gap: 12px;\n",
              "    }\n",
              "\n",
              "    .colab-df-convert {\n",
              "      background-color: #E8F0FE;\n",
              "      border: none;\n",
              "      border-radius: 50%;\n",
              "      cursor: pointer;\n",
              "      display: none;\n",
              "      fill: #1967D2;\n",
              "      height: 32px;\n",
              "      padding: 0 0 0 0;\n",
              "      width: 32px;\n",
              "    }\n",
              "\n",
              "    .colab-df-convert:hover {\n",
              "      background-color: #E2EBFA;\n",
              "      box-shadow: 0px 1px 2px rgba(60, 64, 67, 0.3), 0px 1px 3px 1px rgba(60, 64, 67, 0.15);\n",
              "      fill: #174EA6;\n",
              "    }\n",
              "\n",
              "    [theme=dark] .colab-df-convert {\n",
              "      background-color: #3B4455;\n",
              "      fill: #D2E3FC;\n",
              "    }\n",
              "\n",
              "    [theme=dark] .colab-df-convert:hover {\n",
              "      background-color: #434B5C;\n",
              "      box-shadow: 0px 1px 3px 1px rgba(0, 0, 0, 0.15);\n",
              "      filter: drop-shadow(0px 1px 2px rgba(0, 0, 0, 0.3));\n",
              "      fill: #FFFFFF;\n",
              "    }\n",
              "  </style>\n",
              "\n",
              "      <script>\n",
              "        const buttonEl =\n",
              "          document.querySelector('#df-74d9ea5b-e003-437f-a4ef-b0e1dba6fad0 button.colab-df-convert');\n",
              "        buttonEl.style.display =\n",
              "          google.colab.kernel.accessAllowed ? 'block' : 'none';\n",
              "\n",
              "        async function convertToInteractive(key) {\n",
              "          const element = document.querySelector('#df-74d9ea5b-e003-437f-a4ef-b0e1dba6fad0');\n",
              "          const dataTable =\n",
              "            await google.colab.kernel.invokeFunction('convertToInteractive',\n",
              "                                                     [key], {});\n",
              "          if (!dataTable) return;\n",
              "\n",
              "          const docLinkHtml = 'Like what you see? Visit the ' +\n",
              "            '<a target=\"_blank\" href=https://colab.research.google.com/notebooks/data_table.ipynb>data table notebook</a>'\n",
              "            + ' to learn more about interactive tables.';\n",
              "          element.innerHTML = '';\n",
              "          dataTable['output_type'] = 'display_data';\n",
              "          await google.colab.output.renderOutput(dataTable, element);\n",
              "          const docLink = document.createElement('div');\n",
              "          docLink.innerHTML = docLinkHtml;\n",
              "          element.appendChild(docLink);\n",
              "        }\n",
              "      </script>\n",
              "    </div>\n",
              "  </div>\n",
              "  "
            ]
          },
          "metadata": {},
          "execution_count": 3
        }
      ]
    },
    {
      "cell_type": "markdown",
      "source": [
        "### Data Preprocessing"
      ],
      "metadata": {
        "id": "IEC1jXKzNvzG"
      }
    },
    {
      "cell_type": "code",
      "source": [
        "df.shape"
      ],
      "metadata": {
        "colab": {
          "base_uri": "https://localhost:8080/"
        },
        "id": "kaweTYcLn_gI",
        "outputId": "34c0f727-4c8d-49ca-d2ca-b91ad0b50156"
      },
      "execution_count": 4,
      "outputs": [
        {
          "output_type": "execute_result",
          "data": {
            "text/plain": [
              "(1200, 43)"
            ]
          },
          "metadata": {},
          "execution_count": 4
        }
      ]
    },
    {
      "cell_type": "code",
      "source": [
        "# map genre to int values\n",
        "genre_labels=df.genre.unique()\n",
        "genre_dict = dict(zip(genre_labels, range(len(genre_labels))))\n",
        "df.genre=df.genre.map(genre_dict)\n",
        "df"
      ],
      "metadata": {
        "colab": {
          "base_uri": "https://localhost:8080/",
          "height": 488
        },
        "id": "JukbnHCGPM26",
        "outputId": "31d35ba3-08f1-497b-8cf2-85218c7aa622"
      },
      "execution_count": 5,
      "outputs": [
        {
          "output_type": "execute_result",
          "data": {
            "text/plain": [
              "      genre        file_name  rms_mean   rms_var  chroma_stft_mean  \\\n",
              "0         0  blues.00000.wav  0.127820  0.003445          0.409089   \n",
              "1         0  blues.00001.wav  0.093903  0.002756          0.438725   \n",
              "2         0  blues.00002.wav  0.173220  0.003548          0.420921   \n",
              "3         0  blues.00003.wav  0.138990  0.006927          0.547953   \n",
              "4         0  blues.00004.wav  0.089781  0.002618          0.334440   \n",
              "...     ...              ...       ...       ...               ...   \n",
              "1195     11   rock.00095.wav  0.079147  0.000395          0.451571   \n",
              "1196     11   rock.00096.wav  0.076000  0.000656          0.504338   \n",
              "1197     11   rock.00097.wav  0.081143  0.000399          0.500144   \n",
              "1198     11   rock.00098.wav  0.083426  0.001275          0.498808   \n",
              "1199     11   rock.00099.wav  0.054290  0.000353          0.462077   \n",
              "\n",
              "      chroma_stft_var  spectral_centroid_mean  spectral_centroid_var  \\\n",
              "0            0.089115             1727.351474          142000.224759   \n",
              "1            0.092898             1450.864079          378294.241015   \n",
              "2            0.084918             1493.930518          175858.135048   \n",
              "3            0.071065              996.820708          183117.456205   \n",
              "4            0.087125             1749.111185          359184.325599   \n",
              "...               ...                     ...                    ...   \n",
              "1195         0.073594             1892.933025          291285.568540   \n",
              "1196         0.066288             1920.394382          188219.507592   \n",
              "1197         0.068688             2016.695292          234634.677236   \n",
              "1198         0.082386             1314.906896          245576.541732   \n",
              "1199         0.072335             1505.404015          416104.282543   \n",
              "\n",
              "      spectral_bandwidth  spectral_bandwidth.1  ...  mel_spec11  mel_spec12  \\\n",
              "0            1965.724086          91115.763237  ...  -11.619318  -13.248830   \n",
              "1            1972.260927         228136.751110  ...  -23.548323  -24.655277   \n",
              "2            1698.946080          94216.071611  ...   -9.212287  -13.057380   \n",
              "3            1524.151953         177087.696285  ...  -23.135990  -25.736160   \n",
              "4            1699.714246         105136.447967  ...  -16.692339  -18.763874   \n",
              "...                  ...                   ...  ...         ...         ...   \n",
              "1195         2049.121328         104547.942658  ...  -14.921132  -14.130657   \n",
              "1196         2020.888552          91559.970270  ...  -13.106709  -12.418111   \n",
              "1197         1899.241053          78277.999645  ...  -10.310806  -10.224064   \n",
              "1198         1750.534091         119777.645071  ...  -20.962389  -21.496973   \n",
              "1199         1727.081876         140944.280107  ...  -21.866735  -22.521576   \n",
              "\n",
              "      mel_spec13  mel_spec14  mel_spec15  mel_spec16  mel_spec17  mel_spec18  \\\n",
              "0     -15.205503  -17.721975  -21.459818  -23.451105  -25.575070  -26.389164   \n",
              "1     -26.339476  -28.471700  -33.291893  -33.236996  -32.744590  -32.470802   \n",
              "2     -16.085901  -16.665873  -19.833254  -22.363142  -24.911274  -27.586584   \n",
              "3     -29.430140  -30.392696  -32.626990  -35.162300  -36.888172  -38.613697   \n",
              "4     -21.235283  -20.536680  -22.504978  -25.444075  -28.113205  -32.240480   \n",
              "...          ...         ...         ...         ...         ...         ...   \n",
              "1195  -15.188020  -18.477924  -21.123915  -25.875294  -27.437235  -29.186508   \n",
              "1196  -15.932714  -20.049890  -21.466902  -25.008043  -27.465754  -28.046460   \n",
              "1197  -12.311652  -16.118890  -17.036240  -22.465780  -25.731897  -28.891651   \n",
              "1198  -24.258274  -27.915857  -29.797253  -34.093180  -36.866890  -37.527027   \n",
              "1199  -23.340742  -27.056786  -29.555046  -32.354130  -36.357815  -38.477127   \n",
              "\n",
              "      mel_spec19  mel_spec20  \n",
              "0     -29.996510  -38.826023  \n",
              "1     -35.806477  -44.577250  \n",
              "2     -31.426540  -40.359447  \n",
              "3     -41.235264  -48.588070  \n",
              "4     -38.584164  -48.707350  \n",
              "...          ...         ...  \n",
              "1195  -31.607060  -40.407710  \n",
              "1196  -31.713278  -40.334846  \n",
              "1197  -32.660553  -39.990870  \n",
              "1198  -40.313090  -48.901535  \n",
              "1199  -41.202488  -48.892230  \n",
              "\n",
              "[1200 rows x 43 columns]"
            ],
            "text/html": [
              "\n",
              "  <div id=\"df-6a00a814-9ab5-4e36-a46b-506b867bac23\">\n",
              "    <div class=\"colab-df-container\">\n",
              "      <div>\n",
              "<style scoped>\n",
              "    .dataframe tbody tr th:only-of-type {\n",
              "        vertical-align: middle;\n",
              "    }\n",
              "\n",
              "    .dataframe tbody tr th {\n",
              "        vertical-align: top;\n",
              "    }\n",
              "\n",
              "    .dataframe thead th {\n",
              "        text-align: right;\n",
              "    }\n",
              "</style>\n",
              "<table border=\"1\" class=\"dataframe\">\n",
              "  <thead>\n",
              "    <tr style=\"text-align: right;\">\n",
              "      <th></th>\n",
              "      <th>genre</th>\n",
              "      <th>file_name</th>\n",
              "      <th>rms_mean</th>\n",
              "      <th>rms_var</th>\n",
              "      <th>chroma_stft_mean</th>\n",
              "      <th>chroma_stft_var</th>\n",
              "      <th>spectral_centroid_mean</th>\n",
              "      <th>spectral_centroid_var</th>\n",
              "      <th>spectral_bandwidth</th>\n",
              "      <th>spectral_bandwidth.1</th>\n",
              "      <th>...</th>\n",
              "      <th>mel_spec11</th>\n",
              "      <th>mel_spec12</th>\n",
              "      <th>mel_spec13</th>\n",
              "      <th>mel_spec14</th>\n",
              "      <th>mel_spec15</th>\n",
              "      <th>mel_spec16</th>\n",
              "      <th>mel_spec17</th>\n",
              "      <th>mel_spec18</th>\n",
              "      <th>mel_spec19</th>\n",
              "      <th>mel_spec20</th>\n",
              "    </tr>\n",
              "  </thead>\n",
              "  <tbody>\n",
              "    <tr>\n",
              "      <th>0</th>\n",
              "      <td>0</td>\n",
              "      <td>blues.00000.wav</td>\n",
              "      <td>0.127820</td>\n",
              "      <td>0.003445</td>\n",
              "      <td>0.409089</td>\n",
              "      <td>0.089115</td>\n",
              "      <td>1727.351474</td>\n",
              "      <td>142000.224759</td>\n",
              "      <td>1965.724086</td>\n",
              "      <td>91115.763237</td>\n",
              "      <td>...</td>\n",
              "      <td>-11.619318</td>\n",
              "      <td>-13.248830</td>\n",
              "      <td>-15.205503</td>\n",
              "      <td>-17.721975</td>\n",
              "      <td>-21.459818</td>\n",
              "      <td>-23.451105</td>\n",
              "      <td>-25.575070</td>\n",
              "      <td>-26.389164</td>\n",
              "      <td>-29.996510</td>\n",
              "      <td>-38.826023</td>\n",
              "    </tr>\n",
              "    <tr>\n",
              "      <th>1</th>\n",
              "      <td>0</td>\n",
              "      <td>blues.00001.wav</td>\n",
              "      <td>0.093903</td>\n",
              "      <td>0.002756</td>\n",
              "      <td>0.438725</td>\n",
              "      <td>0.092898</td>\n",
              "      <td>1450.864079</td>\n",
              "      <td>378294.241015</td>\n",
              "      <td>1972.260927</td>\n",
              "      <td>228136.751110</td>\n",
              "      <td>...</td>\n",
              "      <td>-23.548323</td>\n",
              "      <td>-24.655277</td>\n",
              "      <td>-26.339476</td>\n",
              "      <td>-28.471700</td>\n",
              "      <td>-33.291893</td>\n",
              "      <td>-33.236996</td>\n",
              "      <td>-32.744590</td>\n",
              "      <td>-32.470802</td>\n",
              "      <td>-35.806477</td>\n",
              "      <td>-44.577250</td>\n",
              "    </tr>\n",
              "    <tr>\n",
              "      <th>2</th>\n",
              "      <td>0</td>\n",
              "      <td>blues.00002.wav</td>\n",
              "      <td>0.173220</td>\n",
              "      <td>0.003548</td>\n",
              "      <td>0.420921</td>\n",
              "      <td>0.084918</td>\n",
              "      <td>1493.930518</td>\n",
              "      <td>175858.135048</td>\n",
              "      <td>1698.946080</td>\n",
              "      <td>94216.071611</td>\n",
              "      <td>...</td>\n",
              "      <td>-9.212287</td>\n",
              "      <td>-13.057380</td>\n",
              "      <td>-16.085901</td>\n",
              "      <td>-16.665873</td>\n",
              "      <td>-19.833254</td>\n",
              "      <td>-22.363142</td>\n",
              "      <td>-24.911274</td>\n",
              "      <td>-27.586584</td>\n",
              "      <td>-31.426540</td>\n",
              "      <td>-40.359447</td>\n",
              "    </tr>\n",
              "    <tr>\n",
              "      <th>3</th>\n",
              "      <td>0</td>\n",
              "      <td>blues.00003.wav</td>\n",
              "      <td>0.138990</td>\n",
              "      <td>0.006927</td>\n",
              "      <td>0.547953</td>\n",
              "      <td>0.071065</td>\n",
              "      <td>996.820708</td>\n",
              "      <td>183117.456205</td>\n",
              "      <td>1524.151953</td>\n",
              "      <td>177087.696285</td>\n",
              "      <td>...</td>\n",
              "      <td>-23.135990</td>\n",
              "      <td>-25.736160</td>\n",
              "      <td>-29.430140</td>\n",
              "      <td>-30.392696</td>\n",
              "      <td>-32.626990</td>\n",
              "      <td>-35.162300</td>\n",
              "      <td>-36.888172</td>\n",
              "      <td>-38.613697</td>\n",
              "      <td>-41.235264</td>\n",
              "      <td>-48.588070</td>\n",
              "    </tr>\n",
              "    <tr>\n",
              "      <th>4</th>\n",
              "      <td>0</td>\n",
              "      <td>blues.00004.wav</td>\n",
              "      <td>0.089781</td>\n",
              "      <td>0.002618</td>\n",
              "      <td>0.334440</td>\n",
              "      <td>0.087125</td>\n",
              "      <td>1749.111185</td>\n",
              "      <td>359184.325599</td>\n",
              "      <td>1699.714246</td>\n",
              "      <td>105136.447967</td>\n",
              "      <td>...</td>\n",
              "      <td>-16.692339</td>\n",
              "      <td>-18.763874</td>\n",
              "      <td>-21.235283</td>\n",
              "      <td>-20.536680</td>\n",
              "      <td>-22.504978</td>\n",
              "      <td>-25.444075</td>\n",
              "      <td>-28.113205</td>\n",
              "      <td>-32.240480</td>\n",
              "      <td>-38.584164</td>\n",
              "      <td>-48.707350</td>\n",
              "    </tr>\n",
              "    <tr>\n",
              "      <th>...</th>\n",
              "      <td>...</td>\n",
              "      <td>...</td>\n",
              "      <td>...</td>\n",
              "      <td>...</td>\n",
              "      <td>...</td>\n",
              "      <td>...</td>\n",
              "      <td>...</td>\n",
              "      <td>...</td>\n",
              "      <td>...</td>\n",
              "      <td>...</td>\n",
              "      <td>...</td>\n",
              "      <td>...</td>\n",
              "      <td>...</td>\n",
              "      <td>...</td>\n",
              "      <td>...</td>\n",
              "      <td>...</td>\n",
              "      <td>...</td>\n",
              "      <td>...</td>\n",
              "      <td>...</td>\n",
              "      <td>...</td>\n",
              "      <td>...</td>\n",
              "    </tr>\n",
              "    <tr>\n",
              "      <th>1195</th>\n",
              "      <td>11</td>\n",
              "      <td>rock.00095.wav</td>\n",
              "      <td>0.079147</td>\n",
              "      <td>0.000395</td>\n",
              "      <td>0.451571</td>\n",
              "      <td>0.073594</td>\n",
              "      <td>1892.933025</td>\n",
              "      <td>291285.568540</td>\n",
              "      <td>2049.121328</td>\n",
              "      <td>104547.942658</td>\n",
              "      <td>...</td>\n",
              "      <td>-14.921132</td>\n",
              "      <td>-14.130657</td>\n",
              "      <td>-15.188020</td>\n",
              "      <td>-18.477924</td>\n",
              "      <td>-21.123915</td>\n",
              "      <td>-25.875294</td>\n",
              "      <td>-27.437235</td>\n",
              "      <td>-29.186508</td>\n",
              "      <td>-31.607060</td>\n",
              "      <td>-40.407710</td>\n",
              "    </tr>\n",
              "    <tr>\n",
              "      <th>1196</th>\n",
              "      <td>11</td>\n",
              "      <td>rock.00096.wav</td>\n",
              "      <td>0.076000</td>\n",
              "      <td>0.000656</td>\n",
              "      <td>0.504338</td>\n",
              "      <td>0.066288</td>\n",
              "      <td>1920.394382</td>\n",
              "      <td>188219.507592</td>\n",
              "      <td>2020.888552</td>\n",
              "      <td>91559.970270</td>\n",
              "      <td>...</td>\n",
              "      <td>-13.106709</td>\n",
              "      <td>-12.418111</td>\n",
              "      <td>-15.932714</td>\n",
              "      <td>-20.049890</td>\n",
              "      <td>-21.466902</td>\n",
              "      <td>-25.008043</td>\n",
              "      <td>-27.465754</td>\n",
              "      <td>-28.046460</td>\n",
              "      <td>-31.713278</td>\n",
              "      <td>-40.334846</td>\n",
              "    </tr>\n",
              "    <tr>\n",
              "      <th>1197</th>\n",
              "      <td>11</td>\n",
              "      <td>rock.00097.wav</td>\n",
              "      <td>0.081143</td>\n",
              "      <td>0.000399</td>\n",
              "      <td>0.500144</td>\n",
              "      <td>0.068688</td>\n",
              "      <td>2016.695292</td>\n",
              "      <td>234634.677236</td>\n",
              "      <td>1899.241053</td>\n",
              "      <td>78277.999645</td>\n",
              "      <td>...</td>\n",
              "      <td>-10.310806</td>\n",
              "      <td>-10.224064</td>\n",
              "      <td>-12.311652</td>\n",
              "      <td>-16.118890</td>\n",
              "      <td>-17.036240</td>\n",
              "      <td>-22.465780</td>\n",
              "      <td>-25.731897</td>\n",
              "      <td>-28.891651</td>\n",
              "      <td>-32.660553</td>\n",
              "      <td>-39.990870</td>\n",
              "    </tr>\n",
              "    <tr>\n",
              "      <th>1198</th>\n",
              "      <td>11</td>\n",
              "      <td>rock.00098.wav</td>\n",
              "      <td>0.083426</td>\n",
              "      <td>0.001275</td>\n",
              "      <td>0.498808</td>\n",
              "      <td>0.082386</td>\n",
              "      <td>1314.906896</td>\n",
              "      <td>245576.541732</td>\n",
              "      <td>1750.534091</td>\n",
              "      <td>119777.645071</td>\n",
              "      <td>...</td>\n",
              "      <td>-20.962389</td>\n",
              "      <td>-21.496973</td>\n",
              "      <td>-24.258274</td>\n",
              "      <td>-27.915857</td>\n",
              "      <td>-29.797253</td>\n",
              "      <td>-34.093180</td>\n",
              "      <td>-36.866890</td>\n",
              "      <td>-37.527027</td>\n",
              "      <td>-40.313090</td>\n",
              "      <td>-48.901535</td>\n",
              "    </tr>\n",
              "    <tr>\n",
              "      <th>1199</th>\n",
              "      <td>11</td>\n",
              "      <td>rock.00099.wav</td>\n",
              "      <td>0.054290</td>\n",
              "      <td>0.000353</td>\n",
              "      <td>0.462077</td>\n",
              "      <td>0.072335</td>\n",
              "      <td>1505.404015</td>\n",
              "      <td>416104.282543</td>\n",
              "      <td>1727.081876</td>\n",
              "      <td>140944.280107</td>\n",
              "      <td>...</td>\n",
              "      <td>-21.866735</td>\n",
              "      <td>-22.521576</td>\n",
              "      <td>-23.340742</td>\n",
              "      <td>-27.056786</td>\n",
              "      <td>-29.555046</td>\n",
              "      <td>-32.354130</td>\n",
              "      <td>-36.357815</td>\n",
              "      <td>-38.477127</td>\n",
              "      <td>-41.202488</td>\n",
              "      <td>-48.892230</td>\n",
              "    </tr>\n",
              "  </tbody>\n",
              "</table>\n",
              "<p>1200 rows × 43 columns</p>\n",
              "</div>\n",
              "      <button class=\"colab-df-convert\" onclick=\"convertToInteractive('df-6a00a814-9ab5-4e36-a46b-506b867bac23')\"\n",
              "              title=\"Convert this dataframe to an interactive table.\"\n",
              "              style=\"display:none;\">\n",
              "        \n",
              "  <svg xmlns=\"http://www.w3.org/2000/svg\" height=\"24px\"viewBox=\"0 0 24 24\"\n",
              "       width=\"24px\">\n",
              "    <path d=\"M0 0h24v24H0V0z\" fill=\"none\"/>\n",
              "    <path d=\"M18.56 5.44l.94 2.06.94-2.06 2.06-.94-2.06-.94-.94-2.06-.94 2.06-2.06.94zm-11 1L8.5 8.5l.94-2.06 2.06-.94-2.06-.94L8.5 2.5l-.94 2.06-2.06.94zm10 10l.94 2.06.94-2.06 2.06-.94-2.06-.94-.94-2.06-.94 2.06-2.06.94z\"/><path d=\"M17.41 7.96l-1.37-1.37c-.4-.4-.92-.59-1.43-.59-.52 0-1.04.2-1.43.59L10.3 9.45l-7.72 7.72c-.78.78-.78 2.05 0 2.83L4 21.41c.39.39.9.59 1.41.59.51 0 1.02-.2 1.41-.59l7.78-7.78 2.81-2.81c.8-.78.8-2.07 0-2.86zM5.41 20L4 18.59l7.72-7.72 1.47 1.35L5.41 20z\"/>\n",
              "  </svg>\n",
              "      </button>\n",
              "      \n",
              "  <style>\n",
              "    .colab-df-container {\n",
              "      display:flex;\n",
              "      flex-wrap:wrap;\n",
              "      gap: 12px;\n",
              "    }\n",
              "\n",
              "    .colab-df-convert {\n",
              "      background-color: #E8F0FE;\n",
              "      border: none;\n",
              "      border-radius: 50%;\n",
              "      cursor: pointer;\n",
              "      display: none;\n",
              "      fill: #1967D2;\n",
              "      height: 32px;\n",
              "      padding: 0 0 0 0;\n",
              "      width: 32px;\n",
              "    }\n",
              "\n",
              "    .colab-df-convert:hover {\n",
              "      background-color: #E2EBFA;\n",
              "      box-shadow: 0px 1px 2px rgba(60, 64, 67, 0.3), 0px 1px 3px 1px rgba(60, 64, 67, 0.15);\n",
              "      fill: #174EA6;\n",
              "    }\n",
              "\n",
              "    [theme=dark] .colab-df-convert {\n",
              "      background-color: #3B4455;\n",
              "      fill: #D2E3FC;\n",
              "    }\n",
              "\n",
              "    [theme=dark] .colab-df-convert:hover {\n",
              "      background-color: #434B5C;\n",
              "      box-shadow: 0px 1px 3px 1px rgba(0, 0, 0, 0.15);\n",
              "      filter: drop-shadow(0px 1px 2px rgba(0, 0, 0, 0.3));\n",
              "      fill: #FFFFFF;\n",
              "    }\n",
              "  </style>\n",
              "\n",
              "      <script>\n",
              "        const buttonEl =\n",
              "          document.querySelector('#df-6a00a814-9ab5-4e36-a46b-506b867bac23 button.colab-df-convert');\n",
              "        buttonEl.style.display =\n",
              "          google.colab.kernel.accessAllowed ? 'block' : 'none';\n",
              "\n",
              "        async function convertToInteractive(key) {\n",
              "          const element = document.querySelector('#df-6a00a814-9ab5-4e36-a46b-506b867bac23');\n",
              "          const dataTable =\n",
              "            await google.colab.kernel.invokeFunction('convertToInteractive',\n",
              "                                                     [key], {});\n",
              "          if (!dataTable) return;\n",
              "\n",
              "          const docLinkHtml = 'Like what you see? Visit the ' +\n",
              "            '<a target=\"_blank\" href=https://colab.research.google.com/notebooks/data_table.ipynb>data table notebook</a>'\n",
              "            + ' to learn more about interactive tables.';\n",
              "          element.innerHTML = '';\n",
              "          dataTable['output_type'] = 'display_data';\n",
              "          await google.colab.output.renderOutput(dataTable, element);\n",
              "          const docLink = document.createElement('div');\n",
              "          docLink.innerHTML = docLinkHtml;\n",
              "          element.appendChild(docLink);\n",
              "        }\n",
              "      </script>\n",
              "    </div>\n",
              "  </div>\n",
              "  "
            ]
          },
          "metadata": {},
          "execution_count": 5
        }
      ]
    },
    {
      "cell_type": "code",
      "source": [
        "df['genre'].value_counts()"
      ],
      "metadata": {
        "colab": {
          "base_uri": "https://localhost:8080/"
        },
        "id": "thqLrbOS9Ycn",
        "outputId": "34826799-84e0-49d1-e105-8d46cf5077c2"
      },
      "execution_count": 6,
      "outputs": [
        {
          "output_type": "execute_result",
          "data": {
            "text/plain": [
              "7     101\n",
              "0     100\n",
              "1     100\n",
              "2     100\n",
              "3     100\n",
              "4     100\n",
              "5     100\n",
              "8     100\n",
              "9     100\n",
              "10    100\n",
              "11    100\n",
              "6      99\n",
              "Name: genre, dtype: int64"
            ]
          },
          "metadata": {},
          "execution_count": 6
        }
      ]
    },
    {
      "cell_type": "code",
      "source": [
        "X = df.drop(['genre','file_name'], axis=1)\n",
        "\n",
        "y = df['genre']"
      ],
      "metadata": {
        "id": "XNREKSDs9YZy"
      },
      "execution_count": 7,
      "outputs": []
    },
    {
      "cell_type": "markdown",
      "source": [
        "### Data Splitting"
      ],
      "metadata": {
        "id": "5MV8QVDjN4LE"
      }
    },
    {
      "cell_type": "code",
      "source": [
        "X_train, X_test, y_train, y_test = train_test_split(X, y, test_size = 0.33, random_state = 42)"
      ],
      "metadata": {
        "id": "eJeG0pQF9YW3"
      },
      "execution_count": 10,
      "outputs": []
    },
    {
      "cell_type": "code",
      "source": [
        "X_train.shape, X_test.shape"
      ],
      "metadata": {
        "colab": {
          "base_uri": "https://localhost:8080/"
        },
        "id": "F1TRoL9n9YUN",
        "outputId": "461e50bd-fea9-49ec-f858-2f7f339e2fa1"
      },
      "execution_count": 11,
      "outputs": [
        {
          "output_type": "execute_result",
          "data": {
            "text/plain": [
              "((804, 41), (396, 41))"
            ]
          },
          "metadata": {},
          "execution_count": 11
        }
      ]
    },
    {
      "cell_type": "markdown",
      "source": [
        "### Simple Random Forest"
      ],
      "metadata": {
        "id": "lSO23r2gN-EO"
      }
    },
    {
      "cell_type": "code",
      "source": [
        "def train_predict_evaluate(model,X_train,y_train,X_test):\n",
        "  model.fit(X_train,y_train)\n",
        "  y_pred = model.predict(X_test)\n",
        "  print(\"Accuracy: \",accuracy_score(y_test,y_pred))\n",
        "  print(\"Precision: \",precision_score(y_test,y_pred,average='micro'))\n",
        "  print(\"Recall: \",recall_score(y_test,y_pred,average='micro'))\n",
        "  print(\"Confusion Matrix:\\n\",confusion_matrix(y_test,y_pred))"
      ],
      "metadata": {
        "id": "nSNgzko0OD6f"
      },
      "execution_count": 8,
      "outputs": []
    },
    {
      "cell_type": "code",
      "source": [
        "rfc = RandomForestClassifier(random_state=0)\n",
        "train_predict_evaluate(rfc,X_train,y_train,X_test)"
      ],
      "metadata": {
        "colab": {
          "base_uri": "https://localhost:8080/"
        },
        "id": "MJBsqMZ-9YRC",
        "outputId": "ccaa8db5-ea5a-42e6-b8bb-b823f340645d"
      },
      "execution_count": 12,
      "outputs": [
        {
          "output_type": "stream",
          "name": "stdout",
          "text": [
            "Accuracy:  0.6666666666666666\n",
            "Precision:  0.6666666666666666\n",
            "Recall:  0.6666666666666666\n",
            "Confusion Matrix:\n",
            " [[27  0  1  1  2  0  2  0  0  0  1  1]\n",
            " [ 0 28  0  0  0  0  0  0  0  0  0  0]\n",
            " [ 2  1 17  3  0  0  2  0  1  0  2  9]\n",
            " [ 0  0  1 16  0  4  0  0  1  2  7  6]\n",
            " [ 0  0  0  0 25  1  0  5  0  0  1  0]\n",
            " [ 0  0  0  3  2 14  1  0  1  0  9  2]\n",
            " [ 0  4  1  0  0  0 24  0  0  1  0  1]\n",
            " [ 0  0  0  0  4  0  1 28  0  0  0  0]\n",
            " [ 0  0  0  0  0  1  3  0 29  0  0  3]\n",
            " [ 0  0  1  3  0  3  0  2  0 20  0  4]\n",
            " [ 0  0  1  1  1  2  1  0  0  1 22  1]\n",
            " [ 1  0  1  5  1  0  3  0  3  0  4 14]]\n"
          ]
        }
      ]
    },
    {
      "cell_type": "code",
      "source": [
        "import pickle\n",
        "fileName=\"/content/drive/MyDrive/Colab Notebooks/Data/ML_savedModels/RandomForest_Basic.pkl\"\n",
        "pickle.dump(rfc,open(fileName, \"wb\"))"
      ],
      "metadata": {
        "id": "a8GvR5CIX5Ek"
      },
      "execution_count": 14,
      "outputs": []
    },
    {
      "cell_type": "code",
      "source": [
        "param_range = np.arange(1, 150, 2)\n",
        "train_scores, valid_scores = validation_curve(rfc, X_train, y_train,param_name=\"n_estimators\", \n",
        "                                             param_range=param_range,\n",
        "                                             cv=5, \n",
        "                                             scoring=\"accuracy\", \n",
        "                                             n_jobs=-1)"
      ],
      "metadata": {
        "id": "qTXfD-fkAsKc"
      },
      "execution_count": 16,
      "outputs": []
    },
    {
      "cell_type": "code",
      "source": [
        "train_mean = np.mean(train_scores, axis=1)\n",
        "train_std = np.std(train_scores, axis=1)\n",
        "\n",
        "test_mean = np.mean(valid_scores, axis=1)\n",
        "test_std = np.std(valid_scores, axis=1)\n"
      ],
      "metadata": {
        "id": "GREq029HAsHs"
      },
      "execution_count": 17,
      "outputs": []
    },
    {
      "cell_type": "code",
      "source": [
        "plt.subplots(1, figsize=(7,7))\n",
        "plt.plot(param_range, train_mean, label=\"Training score\", color=\"blue\")\n",
        "plt.plot(param_range, test_mean, label=\"Cross-validation score\", color=\"red\")\n",
        " \n",
        "plt.title(\"Validation Curve With Random Forest\")\n",
        "plt.xlabel(\"Number Of Trees\")\n",
        "plt.ylabel(\"Accuracy Score\")\n",
        "plt.tight_layout()\n",
        "plt.legend(loc=\"best\")\n",
        "plt.show()"
      ],
      "metadata": {
        "id": "dZMvJ_yHo5W5",
        "colab": {
          "base_uri": "https://localhost:8080/",
          "height": 513
        },
        "outputId": "950d69ed-1d10-435a-ce04-a7cee4f4546f"
      },
      "execution_count": 18,
      "outputs": [
        {
          "output_type": "display_data",
          "data": {
            "text/plain": [
              "<Figure size 504x504 with 1 Axes>"
            ],
            "image/png": "[encoded data removed]"
          },
          "metadata": {
            "needs_background": "light"
          }
        }
      ]
    },
    {
      "cell_type": "markdown",
      "source": [
        "### Hyperparameter Tuning"
      ],
      "metadata": {
        "id": "jeD2Mb1-RB6a"
      }
    },
    {
      "cell_type": "markdown",
      "source": [
        "#### Randomized Search CV"
      ],
      "metadata": {
        "id": "2tliJs1VRI83"
      }
    },
    {
      "cell_type": "code",
      "source": [
        "# Taking a huge range of values to get nearer to optimal parameters\n",
        "\n",
        "# Parameters to check\n",
        "n_estimators = [int(x) for x in np.linspace(start = 100, stop = 1000, num = 10)]\n",
        "max_features = ['auto', 'sqrt']\n",
        "max_depth = [int(x) for x in np.linspace(10, 150, num = 10)]\n",
        "max_depth.append(None)\n",
        "min_samples_split = [2, 5, 10]\n",
        "min_samples_leaf = [1, 2, 4]\n",
        "bootstrap = [True, False]\n",
        "\n",
        "# Creating random grid\n",
        "random_grid = {'n_estimators': n_estimators,\n",
        "               'max_features': max_features,\n",
        "               'max_depth': max_depth,\n",
        "               'min_samples_split': min_samples_split,\n",
        "               'min_samples_leaf': min_samples_leaf,\n",
        "               'bootstrap': bootstrap}"
      ],
      "metadata": {
        "id": "z5JxTpwio5UQ"
      },
      "execution_count": null,
      "outputs": []
    },
    {
      "cell_type": "code",
      "source": [
        "# Using the random grid to search for best hyperparameters\n",
        "\n",
        "# Random search of parameters, using 3 fold cross validation, \n",
        "# search across 100 different combinations, and use all available cores\n",
        "rfc_random = RandomizedSearchCV(estimator = rfc, param_distributions = random_grid,\n",
        "                               n_iter = 100, cv = 3, verbose=2, \n",
        "                               random_state=42, n_jobs = -1)"
      ],
      "metadata": {
        "id": "t7NbwFJco4Om"
      },
      "execution_count": null,
      "outputs": []
    },
    {
      "cell_type": "code",
      "source": [
        "# Training model and printing results\n",
        "train_predict_evaluate (rfc_random, X_train, y_train, X_test)"
      ],
      "metadata": {
        "colab": {
          "base_uri": "https://localhost:8080/"
        },
        "id": "1_Q0T3cZR6-R",
        "outputId": "42814b4b-440f-4e52-b529-21c569f2ed86"
      },
      "execution_count": null,
      "outputs": [
        {
          "output_type": "stream",
          "name": "stdout",
          "text": [
            "Fitting 3 folds for each of 100 candidates, totalling 300 fits\n",
            "Accuracy:  0.6742424242424242\n",
            "Precision:  0.6742424242424242\n",
            "Recall:  0.6742424242424242\n",
            "Confusion Matrix:\n",
            " [[27  0  0  1  2  0  2  0  1  0  1  1]\n",
            " [ 0 28  0  0  0  0  0  0  0  0  0  0]\n",
            " [ 3  1 18  3  0  0  1  0  0  0  2  9]\n",
            " [ 0  0  0 14  0  5  0  0  1  2  7  8]\n",
            " [ 0  0  0  0 27  0  0  5  0  0  0  0]\n",
            " [ 1  0  0  5  1 13  0  0  1  0 10  1]\n",
            " [ 1  3  2  0  0  0 23  0  1  0  0  1]\n",
            " [ 0  0  0  0  4  0  1 28  0  0  0  0]\n",
            " [ 1  0  0  0  2  1  2  0 28  0  0  2]\n",
            " [ 0  0  0  3  0  1  0  2  0 20  2  5]\n",
            " [ 0  0  1  1  0  1  1  0  0  1 25  0]\n",
            " [ 1  0  0  3  1  1  4  0  1  1  4 16]]\n"
          ]
        }
      ]
    },
    {
      "cell_type": "code",
      "source": [
        "rfc_random.best_params_"
      ],
      "metadata": {
        "colab": {
          "base_uri": "https://localhost:8080/"
        },
        "id": "8F9O-d5TR67o",
        "outputId": "4cc99bdc-42a8-46ce-b12b-8b533ba5e93e"
      },
      "execution_count": null,
      "outputs": [
        {
          "output_type": "execute_result",
          "data": {
            "text/plain": [
              "{'bootstrap': False,\n",
              " 'max_depth': 150,\n",
              " 'max_features': 'auto',\n",
              " 'min_samples_leaf': 1,\n",
              " 'min_samples_split': 10,\n",
              " 'n_estimators': 300}"
            ]
          },
          "metadata": {},
          "execution_count": 56
        }
      ]
    },
    {
      "cell_type": "code",
      "source": [
        ""
      ],
      "metadata": {
        "id": "a2HqlLhXR645"
      },
      "execution_count": null,
      "outputs": []
    },
    {
      "cell_type": "markdown",
      "source": [
        "#### Grid Search CV"
      ],
      "metadata": {
        "id": "BYypaqWJZRr7"
      }
    },
    {
      "cell_type": "code",
      "source": [
        "# Create the parameter grid based on the results of random search \n",
        "param_grid = {\n",
        "    'bootstrap': [True],\n",
        "    'max_depth': [145, 150, 155, 160],\n",
        "    'min_samples_leaf': [1,2,3],\n",
        "    'min_samples_split': [9, 10, 11],\n",
        "    'n_estimators': [225, 250,275,300,325,350]\n",
        "}\n"
      ],
      "metadata": {
        "id": "_ou-1aXmR62K"
      },
      "execution_count": 19,
      "outputs": []
    },
    {
      "cell_type": "code",
      "source": [
        "#Grid Search model\n",
        "grid_search_model = GridSearchCV(estimator = rfc, param_grid = param_grid, \n",
        "                          cv = 3, n_jobs = -1, verbose = 2)\n",
        "\n",
        "# Results on the Grid Search model\n",
        "train_predict_evaluate (grid_search_model, X_train, y_train, X_test)"
      ],
      "metadata": {
        "colab": {
          "base_uri": "https://localhost:8080/"
        },
        "id": "vtUvofTIR6zk",
        "outputId": "d39ff2f7-b08c-402f-d94c-cd7bb40f53c1"
      },
      "execution_count": 20,
      "outputs": [
        {
          "output_type": "stream",
          "name": "stdout",
          "text": [
            "Fitting 3 folds for each of 216 candidates, totalling 648 fits\n",
            "Accuracy:  0.6767676767676768\n",
            "Precision:  0.6767676767676768\n",
            "Recall:  0.6767676767676768\n",
            "Confusion Matrix:\n",
            " [[28  0  0  1  1  0  2  0  1  0  1  1]\n",
            " [ 0 28  0  0  0  0  0  0  0  0  0  0]\n",
            " [ 2  1 19  3  0  0  2  0  1  0  2  7]\n",
            " [ 0  0  0 17  0  4  0  0  1  2  6  7]\n",
            " [ 0  0  0  0 26  0  0  4  1  0  1  0]\n",
            " [ 0  0  0  4  0 15  1  0  1  0 10  1]\n",
            " [ 1  4  1  0  0  0 22  0  0  0  0  3]\n",
            " [ 0  0  0  0  4  0  1 27  0  1  0  0]\n",
            " [ 0  0  0  0  1  1  3  0 31  0  0  0]\n",
            " [ 0  0  0  3  0  2  1  1  0 20  1  5]\n",
            " [ 0  0  1  0  1  1  1  0  0  1 24  1]\n",
            " [ 1  0  2  5  1  0  4  0  3  0  5 11]]\n"
          ]
        }
      ]
    },
    {
      "cell_type": "code",
      "source": [
        "grid_search_model.best_params_"
      ],
      "metadata": {
        "colab": {
          "base_uri": "https://localhost:8080/"
        },
        "id": "51IhsrmWR6ws",
        "outputId": "f37df56c-78b1-454f-bbe8-87ed0b14db8f"
      },
      "execution_count": 21,
      "outputs": [
        {
          "output_type": "execute_result",
          "data": {
            "text/plain": [
              "{'bootstrap': True,\n",
              " 'max_depth': 145,\n",
              " 'min_samples_leaf': 3,\n",
              " 'min_samples_split': 9,\n",
              " 'n_estimators': 275}"
            ]
          },
          "metadata": {},
          "execution_count": 21
        }
      ]
    },
    {
      "cell_type": "code",
      "source": [
        ""
      ],
      "metadata": {
        "id": "nIwO76KvR6uE"
      },
      "execution_count": 21,
      "outputs": []
    },
    {
      "cell_type": "markdown",
      "source": [
        "### Final Model"
      ],
      "metadata": {
        "id": "OIXIgoAPeMPs"
      }
    },
    {
      "cell_type": "code",
      "source": [
        "final_model=RandomForestClassifier(n_estimators=275,min_samples_split=9,min_samples_leaf=3,max_depth=145,bootstrap=True)\n",
        "# Results on the Grid Search model\n",
        "train_predict_evaluate (grid_search_model, X_train, y_train, X_test)"
      ],
      "metadata": {
        "colab": {
          "base_uri": "https://localhost:8080/"
        },
        "id": "yTzOaP25R6q_",
        "outputId": "10b163d4-ab36-4470-8595-5eed222a1bd1"
      },
      "execution_count": 22,
      "outputs": [
        {
          "output_type": "stream",
          "name": "stdout",
          "text": [
            "Fitting 3 folds for each of 216 candidates, totalling 648 fits\n",
            "Accuracy:  0.6767676767676768\n",
            "Precision:  0.6767676767676768\n",
            "Recall:  0.6767676767676768\n",
            "Confusion Matrix:\n",
            " [[28  0  0  1  1  0  2  0  1  0  1  1]\n",
            " [ 0 28  0  0  0  0  0  0  0  0  0  0]\n",
            " [ 2  1 19  3  0  0  2  0  1  0  2  7]\n",
            " [ 0  0  0 17  0  4  0  0  1  2  6  7]\n",
            " [ 0  0  0  0 26  0  0  4  1  0  1  0]\n",
            " [ 0  0  0  4  0 15  1  0  1  0 10  1]\n",
            " [ 1  4  1  0  0  0 22  0  0  0  0  3]\n",
            " [ 0  0  0  0  4  0  1 27  0  1  0  0]\n",
            " [ 0  0  0  0  1  1  3  0 31  0  0  0]\n",
            " [ 0  0  0  3  0  2  1  1  0 20  1  5]\n",
            " [ 0  0  1  0  1  1  1  0  0  1 24  1]\n",
            " [ 1  0  2  5  1  0  4  0  3  0  5 11]]\n"
          ]
        }
      ]
    },
    {
      "cell_type": "code",
      "source": [
        "import pickle\n",
        "fileName=\"/content/drive/MyDrive/Colab Notebooks/Data/ML_savedModels/RandomForest_Parameter_Tuned.pkl\"\n",
        "pickle.dump(rfc,open(fileName, \"wb\"))"
      ],
      "metadata": {
        "id": "-weUocWxYXjx"
      },
      "execution_count": 23,
      "outputs": []
    },
    {
      "cell_type": "code",
      "source": [
        "param_range = np.arange(1, 150, 2)\n",
        "train_scores, valid_scores = validation_curve(final_model, X_train, y_train,param_name=\"n_estimators\", \n",
        "                                             param_range=param_range,\n",
        "                                             cv=5, \n",
        "                                             scoring=\"accuracy\", \n",
        "                                             n_jobs=-1,\n",
        "                                              verbose=True\n",
        "                                              )"
      ],
      "metadata": {
        "colab": {
          "base_uri": "https://localhost:8080/"
        },
        "id": "Jkjr84nsK5_o",
        "outputId": "bc71f486-61cb-4e49-cc39-b8674b5a5e45"
      },
      "execution_count": 24,
      "outputs": [
        {
          "output_type": "stream",
          "name": "stderr",
          "text": [
            "[Parallel(n_jobs=-1)]: Using backend LokyBackend with 2 concurrent workers.\n",
            "[Parallel(n_jobs=-1)]: Done 375 out of 375 | elapsed:  1.4min finished\n"
          ]
        }
      ]
    },
    {
      "cell_type": "code",
      "source": [
        "train_mean = np.mean(train_scores, axis=1)\n",
        "train_std = np.std(train_scores, axis=1)\n",
        "\n",
        "test_mean = np.mean(valid_scores, axis=1)\n",
        "test_std = np.std(valid_scores, axis=1)\n"
      ],
      "metadata": {
        "id": "Ivc8nHAdLTb_"
      },
      "execution_count": 25,
      "outputs": []
    },
    {
      "cell_type": "code",
      "source": [
        "plt.subplots(1, figsize=(7,7))\n",
        "plt.plot(param_range, train_mean, label=\"Training score\", color=\"blue\")\n",
        "plt.plot(param_range, test_mean, label=\"Cross-validation score\", color=\"red\")\n",
        " \n",
        "plt.title(\"Validation Curve With Random Forest\")\n",
        "plt.xlabel(\"Number Of Trees\")\n",
        "plt.ylabel(\"Accuracy Score\")\n",
        "plt.tight_layout()\n",
        "plt.legend(loc=\"best\")\n",
        "plt.show()"
      ],
      "metadata": {
        "colab": {
          "base_uri": "https://localhost:8080/",
          "height": 513
        },
        "id": "ReUdxl24LUbI",
        "outputId": "53e1a12a-3e71-44da-8116-99aa925a54f8"
      },
      "execution_count": 26,
      "outputs": [
        {
          "output_type": "display_data",
          "data": {
            "text/plain": [
              "<Figure size 504x504 with 1 Axes>"
            ],
            "image/png": "[encoded data removed]"
          },
          "metadata": {
            "needs_background": "light"
          }
        }
      ]
    },
    {
      "cell_type": "markdown",
      "source": [
        "### K-Fold"
      ],
      "metadata": {
        "id": "IyncsvWjgao7"
      }
    },
    {
      "cell_type": "code",
      "source": [
        "X.shape,y.shape"
      ],
      "metadata": {
        "colab": {
          "base_uri": "https://localhost:8080/"
        },
        "id": "CKkppOgppOaA",
        "outputId": "c894c579-e2a2-4523-daa8-bbfcbc3757db"
      },
      "execution_count": 27,
      "outputs": [
        {
          "output_type": "execute_result",
          "data": {
            "text/plain": [
              "((1200, 41), (1200,))"
            ]
          },
          "metadata": {},
          "execution_count": 27
        }
      ]
    },
    {
      "cell_type": "markdown",
      "source": [
        "#### Basic Model"
      ],
      "metadata": {
        "id": "J5E7dx7sxTE3"
      }
    },
    {
      "cell_type": "code",
      "source": [
        "kf=KFold(n_splits=5, shuffle=True, random_state=42)\n",
        "\n",
        "def get_precision(training_data,training_target_col):\n",
        "  precision=[]\n",
        "  for i,j in kf.split(training_data):\n",
        "    X=training_data.iloc[i]\n",
        "    X_label=training_target_col.iloc[i]\n",
        "    X_val=training_data.iloc[j]\n",
        "    X_val_label=training_target_col.iloc[j]\n",
        "\n",
        "    temp_model=RandomForestClassifier(random_state=0)\n",
        "    temp_model.fit(X,X_label)\n",
        "\n",
        "    x_val_predict=temp_model.predict(X_val)\n",
        "\n",
        "    val=precision_score(X_val_label,x_val_predict,average='micro')\n",
        "\n",
        "    precision.append(val)\n",
        "  \n",
        "  return precision\n",
        "\n",
        "def get_recall(training_data,training_target_col):\n",
        "  recall=[]\n",
        "  for i,j in kf.split(training_data):\n",
        "    X=training_data.iloc[i]\n",
        "    X_label=training_target_col.iloc[i]\n",
        "    X_val=training_data.iloc[j]\n",
        "    X_val_label=training_target_col.iloc[j]\n",
        "\n",
        "    temp_model=RandomForestClassifier(random_state=0)\n",
        "    temp_model.fit(X,X_label)\n",
        "\n",
        "    x_val_predict=temp_model.predict(X_val)\n",
        "\n",
        "    val=recall_score(X_val_label,x_val_predict,average='micro')\n",
        "\n",
        "    recall.append(val)\n",
        "  \n",
        "  return recall\n",
        "\n"
      ],
      "metadata": {
        "id": "Yj2J50K4l3QB"
      },
      "execution_count": 28,
      "outputs": []
    },
    {
      "cell_type": "code",
      "source": [
        "def cross_validation_score(model,X,y):\n",
        "  accuracy=cross_val_score(model, X, y, cv =5,scoring='accuracy')\n",
        "  recall=get_recall(X, y)\n",
        "  precision=get_precision(X,y)\n",
        "\n",
        "  print(\"Accuracy: \", np.mean(accuracy))\n",
        "  print(\"Precision: \", np.mean(precision))\n",
        "  print(\"Recall: \", np.mean(recall))"
      ],
      "metadata": {
        "id": "uMHzLn_4eo1r"
      },
      "execution_count": 29,
      "outputs": []
    },
    {
      "cell_type": "code",
      "source": [
        "fileName1=\"/content/drive/MyDrive/Colab Notebooks/Data/ML_savedModels/RandomForest_Basic.pkl\"\n",
        "rfc=pickle.load(open(fileName1, \"rb\"))"
      ],
      "metadata": {
        "id": "p7qQPTLwc9WA"
      },
      "execution_count": 31,
      "outputs": []
    },
    {
      "cell_type": "code",
      "source": [
        "# On model without Hyperparameter Tuning\n",
        "cross_validation_score(rfc, X, y)"
      ],
      "metadata": {
        "colab": {
          "base_uri": "https://localhost:8080/"
        },
        "id": "PtYoaKIbep69",
        "outputId": "5a769c42-b446-4dd9-c48e-590bdbb5f987"
      },
      "execution_count": 32,
      "outputs": [
        {
          "output_type": "stream",
          "name": "stdout",
          "text": [
            "Accuracy:  0.5800000000000001\n",
            "Precision:  0.7033333333333334\n",
            "Recall:  0.7033333333333334\n"
          ]
        }
      ]
    },
    {
      "cell_type": "code",
      "source": [
        ""
      ],
      "metadata": {
        "id": "UVQhbOYhepzI"
      },
      "execution_count": 30,
      "outputs": []
    },
    {
      "cell_type": "markdown",
      "source": [
        "#### Parameter tuned model"
      ],
      "metadata": {
        "id": "GwIsdEUMxVz2"
      }
    },
    {
      "cell_type": "code",
      "source": [
        "kf=KFold(n_splits=5, shuffle=True, random_state=42)\n",
        "\n",
        "def get_precision(training_data,training_target_col):\n",
        "  precision=[]\n",
        "  for i,j in kf.split(training_data):\n",
        "    X=training_data.iloc[i]\n",
        "    X_label=training_target_col.iloc[i]\n",
        "    X_val=training_data.iloc[j]\n",
        "    X_val_label=training_target_col.iloc[j]\n",
        "\n",
        "    temp_model=RandomForestClassifier(n_estimators=275,min_samples_split=9,min_samples_leaf=3,max_depth=145,bootstrap=True)\n",
        "    temp_model.fit(X,X_label)\n",
        "\n",
        "    x_val_predict=temp_model.predict(X_val)\n",
        "\n",
        "    val=precision_score(X_val_label,x_val_predict,average='micro')\n",
        "\n",
        "    precision.append(val)\n",
        "  \n",
        "  return precision\n",
        "\n",
        "def get_recall(training_data,training_target_col):\n",
        "  recall=[]\n",
        "  for i,j in kf.split(training_data):\n",
        "    X=training_data.iloc[i]\n",
        "    X_label=training_target_col.iloc[i]\n",
        "    X_val=training_data.iloc[j]\n",
        "    X_val_label=training_target_col.iloc[j]\n",
        "\n",
        "    temp_model=RandomForestClassifier(n_estimators=275,min_samples_split=9,min_samples_leaf=3,max_depth=145,bootstrap=True)\n",
        "    temp_model.fit(X,X_label)\n",
        "\n",
        "    x_val_predict=temp_model.predict(X_val)\n",
        "\n",
        "    val=recall_score(X_val_label,x_val_predict,average='micro')\n",
        "\n",
        "    recall.append(val)\n",
        "  \n",
        "  return recall\n",
        "\n"
      ],
      "metadata": {
        "id": "PTNx_I2Wepv9"
      },
      "execution_count": 33,
      "outputs": []
    },
    {
      "cell_type": "code",
      "source": [
        "def cross_validation_score(model,X,y):\n",
        "  accuracy=cross_val_score(model, X, y, cv =5,scoring='accuracy')\n",
        "  recall=get_recall(X, y)\n",
        "  precision=get_precision(X,y)\n",
        "\n",
        "  print(\"Accuracy: \", np.mean(accuracy))\n",
        "  print(\"Precision: \", np.mean(precision))\n",
        "  print(\"Recall: \", np.mean(recall))"
      ],
      "metadata": {
        "id": "PbMbciXEeptF"
      },
      "execution_count": 34,
      "outputs": []
    },
    {
      "cell_type": "code",
      "source": [
        "fileName1=\"/content/drive/MyDrive/Colab Notebooks/Data/ML_savedModels/RandomForest_Parameter_Tuned.pkl\"\n",
        "rfc=pickle.load(open(fileName1, \"rb\"))"
      ],
      "metadata": {
        "id": "BJ5suEqGdMYD"
      },
      "execution_count": 35,
      "outputs": []
    },
    {
      "cell_type": "code",
      "source": [
        "# On model without Hyperparameter Tuning\n",
        "cross_validation_score(rfc, X, y)"
      ],
      "metadata": {
        "colab": {
          "base_uri": "https://localhost:8080/"
        },
        "id": "57CHjQcqepqJ",
        "outputId": "fcedf724-2ab2-4d53-d515-4f4d76003159"
      },
      "execution_count": 36,
      "outputs": [
        {
          "output_type": "stream",
          "name": "stdout",
          "text": [
            "Accuracy:  0.5800000000000001\n",
            "Precision:  0.6799999999999999\n",
            "Recall:  0.6733333333333332\n"
          ]
        }
      ]
    },
    {
      "cell_type": "code",
      "source": [
        ""
      ],
      "metadata": {
        "id": "MFUNZQ2HxkNn"
      },
      "execution_count": null,
      "outputs": []
    }
  ]
}