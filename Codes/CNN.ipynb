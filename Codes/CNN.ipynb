{
 "cells": [
  {
   "cell_type": "markdown",
   "metadata": {
    "id": "jDAys5NJ9vU7"
   },
   "source": [
    "## Wavelet data generation.."
   ]
  },
  {
   "cell_type": "code",
   "execution_count": 6,
   "metadata": {
    "executionInfo": {
     "elapsed": 2050,
     "status": "ok",
     "timestamp": 1652781818643,
     "user": {
      "displayName": "Siddharth Singh Kiryal",
      "userId": "10746361124581070101"
     },
     "user_tz": -330
    },
    "id": "QxC9hVYhqvod"
   },
   "outputs": [],
   "source": [
    "import librosa\n",
    "import matplotlib.pyplot as plt\n",
    "import librosa.display\n",
    "import matplotlib.pyplot as plt\n",
    "from keras.models import Sequential\n",
    "from keras.layers import Dense, Conv2D , MaxPool2D , Flatten , Dropout \n",
    "from keras.preprocessing.image import ImageDataGenerator\n",
    "from sklearn.metrics import classification_report,confusion_matrix\n",
    "import tensorflow as tf\n",
    "from tensorflow.keras.optimizers import Adam\n",
    "import cv2\n",
    "import os\n",
    "import numpy as np\n",
    "import random\n",
    "import seaborn as sn\n",
    "import pandas as pd"
   ]
  },
  {
   "cell_type": "code",
   "execution_count": 7,
   "metadata": {
    "colab": {
     "base_uri": "https://localhost:8080/"
    },
    "executionInfo": {
     "elapsed": 22226,
     "status": "ok",
     "timestamp": 1652781846270,
     "user": {
      "displayName": "Siddharth Singh Kiryal",
      "userId": "10746361124581070101"
     },
     "user_tz": -330
    },
    "id": "5j4HFduqrWWn",
    "outputId": "342f6f36-39d9-4e0f-89e3-5cbf0108eca6"
   },
   "outputs": [
    {
     "name": "stdout",
     "output_type": "stream",
     "text": [
      "Mounted at /content/drive\n"
     ]
    }
   ],
   "source": [
    "from google.colab import drive\n",
    "drive.mount('/content/drive')"
   ]
  },
  {
   "cell_type": "code",
   "execution_count": 8,
   "metadata": {
    "colab": {
     "base_uri": "https://localhost:8080/"
    },
    "executionInfo": {
     "elapsed": 676,
     "status": "ok",
     "timestamp": 1652781848641,
     "user": {
      "displayName": "Siddharth Singh Kiryal",
      "userId": "10746361124581070101"
     },
     "user_tz": -330
    },
    "id": "M47zTnb6rbKp",
    "outputId": "da3c478d-c4eb-4cea-85de-db377bd60f09"
   },
   "outputs": [
    {
     "name": "stdout",
     "output_type": "stream",
     "text": [
      "accuracy_and_loss_1.png        model1.sav\n",
      "accuracy_and_loss_2.png        model2.pkl\n",
      "checkpoint\t\t       model.cpkt.data-00000-of-00001\n",
      "CNN.ipynb\t\t       model.cpkt.index\n",
      "confusion_mrtx_test_load.png   model.pkl\n",
      "confusion_mrtx_test.png        model_using_saving\n",
      "confusion_mrtx_train_load.png  spectrogram\n"
     ]
    }
   ],
   "source": [
    "!ls \"/content/drive/My Drive/Colab Notebooks/ml cnn project\""
   ]
  },
  {
   "cell_type": "code",
   "execution_count": 9,
   "metadata": {
    "executionInfo": {
     "elapsed": 13,
     "status": "ok",
     "timestamp": 1652781851043,
     "user": {
      "displayName": "Siddharth Singh Kiryal",
      "userId": "10746361124581070101"
     },
     "user_tz": -330
    },
    "id": "UG0RdZAQvQ_z"
   },
   "outputs": [],
   "source": [
    "path = \"\"\n",
    "#path = \"/content/drive/My Drive/Colab Notebooks/ml cnn project/\""
   ]
  },
  {
   "cell_type": "code",
   "execution_count": 10,
   "metadata": {
    "executionInfo": {
     "elapsed": 2327,
     "status": "ok",
     "timestamp": 1652781854042,
     "user": {
      "displayName": "Siddharth Singh Kiryal",
      "userId": "10746361124581070101"
     },
     "user_tz": -330
    },
    "id": "7hU730GYrfDj"
   },
   "outputs": [],
   "source": [
    "def wavelet_generator(genre_name, shuffle_samples = False):\n",
    "  img_names = os.listdir('genres/'+genre_name)\n",
    "  os.makedirs('wavelets/train/'+genre_name)\n",
    "  os.makedirs('wavelets/test/'+genre_name)\n",
    "  print(genre_name)\n",
    "  if shuffle_samples == True:\n",
    "    random.shuffle(img_names)\n",
    "  train_names = img_names[:60]\n",
    "  test_names = img_names[60:]\n",
    "  song_number = 0\n",
    "  for song in train_names:\n",
    "    song_number+=1\n",
    "    x , sr = librosa.load('genres/'+genre_name+'/'+song)\n",
    "    #plt.figure(figsize=(14, 5))\n",
    "    librosa.display.waveshow(x)\n",
    "    plt.savefig('wavelets/train/'+genre_name+'/'+str(song_number)+'.png')\n",
    "    plt.close()\n",
    "  \n",
    "  song_number = 0\n",
    "  for song in test_names:\n",
    "    song_number+=1\n",
    "    x , sr = librosa.load('genres/'+genre_name+'/'+song)\n",
    "    #plt.figure(figsize=(14, 5))\n",
    "    librosa.display.waveshow(x)\n",
    "    plt.savefig('wavelets/test/'+genre_name+'/'+str(song_number)+'.png')\n",
    "    plt.close()"
   ]
  },
  {
   "cell_type": "code",
   "execution_count": null,
   "metadata": {
    "id": "G7aFO6Q4KOXi"
   },
   "outputs": [],
   "source": [
    "classes = [a for a in os.listdir('genres') if '.' not in a]\n",
    "print(classes)"
   ]
  },
  {
   "cell_type": "code",
   "execution_count": null,
   "metadata": {
    "id": "SLXQGjStqvoj"
   },
   "outputs": [],
   "source": [
    "#Actual wavelet generation\n",
    "for genre in classes:\n",
    "    wavelet_generator(genre)"
   ]
  },
  {
   "cell_type": "markdown",
   "metadata": {
    "id": "xKQS6NweDHi6"
   },
   "source": [
    "## Spectrogram generation.."
   ]
  },
  {
   "cell_type": "code",
   "execution_count": 11,
   "metadata": {
    "executionInfo": {
     "elapsed": 4,
     "status": "ok",
     "timestamp": 1652781857405,
     "user": {
      "displayName": "Siddharth Singh Kiryal",
      "userId": "10746361124581070101"
     },
     "user_tz": -330
    },
    "id": "lnwuA7h19z48"
   },
   "outputs": [],
   "source": [
    "def spectogram_generator(genre_name, shuffle_samples = False):\n",
    "  img_names = os.listdir('genres/'+genre_name)\n",
    "  os.makedirs('spectrogram/train/'+genre_name)\n",
    "  os.makedirs('spectrogram/test/'+genre_name)\n",
    "  print(genre_name)\n",
    "  if shuffle_samples == True:\n",
    "    random.shuffle(img_names)\n",
    "  train_names = img_names[:60]\n",
    "  test_names = img_names[60:]\n",
    "  song_number = 0\n",
    "  for song in train_names:\n",
    "    song_number+=1\n",
    "    x , sr = librosa.load('genres/'+genre_name+'/'+song)\n",
    "    X = librosa.stft(x)\n",
    "    Xdb = librosa.amplitude_to_db(abs(X))\n",
    "    librosa.display.specshow(Xdb)\n",
    "    plt.savefig('spectrogram/train/'+genre_name+'/'+str(song_number)+'.png')\n",
    "    plt.close()\n",
    "  \n",
    "  song_number = 0\n",
    "  for song in test_names:\n",
    "    song_number+=1\n",
    "    x , sr = librosa.load('genres/'+genre_name+'/'+song)\n",
    "    X = librosa.stft(x)\n",
    "    Xdb = librosa.amplitude_to_db(abs(X))\n",
    "    librosa.display.specshow(Xdb)\n",
    "    plt.savefig('spectrogram/test/'+genre_name+'/'+str(song_number)+'.png')\n",
    "    plt.close()"
   ]
  },
  {
   "cell_type": "code",
   "execution_count": null,
   "metadata": {
    "id": "KrtBWlF4_YXb"
   },
   "outputs": [],
   "source": [
    "classes = [a for a in os.listdir('genres') if '.' not in a]\n",
    "print(classes)"
   ]
  },
  {
   "cell_type": "code",
   "execution_count": null,
   "metadata": {
    "id": "q5zCkdEFqvoo"
   },
   "outputs": [],
   "source": [
    "#Actual spectogram generation\n",
    "for genre in classes:\n",
    "    spectogram_generator(genre)"
   ]
  },
  {
   "cell_type": "markdown",
   "metadata": {
    "id": "EQy_bqnn9rmj"
   },
   "source": [
    "## Model training.."
   ]
  },
  {
   "cell_type": "code",
   "execution_count": 12,
   "metadata": {
    "executionInfo": {
     "elapsed": 483,
     "status": "ok",
     "timestamp": 1652781863144,
     "user": {
      "displayName": "Siddharth Singh Kiryal",
      "userId": "10746361124581070101"
     },
     "user_tz": -330
    },
    "id": "lgrqLPZcK0MX"
   },
   "outputs": [],
   "source": [
    "import matplotlib.pyplot as plt\n",
    "import seaborn as sns\n",
    "\n",
    "import keras\n",
    "from keras.models import Sequential\n",
    "from keras.layers import Dense, Conv2D , MaxPool2D , Flatten , Dropout, BatchNormalization \n",
    "from keras.preprocessing.image import ImageDataGenerator\n",
    "from tensorflow.keras.optimizers import Adam\n",
    "\n",
    "from sklearn.metrics import classification_report,confusion_matrix\n",
    "\n",
    "import tensorflow as tf\n",
    "\n",
    "import cv2\n",
    "import os\n",
    "import numpy as np"
   ]
  },
  {
   "cell_type": "code",
   "execution_count": 13,
   "metadata": {
    "executionInfo": {
     "elapsed": 9,
     "status": "ok",
     "timestamp": 1652781864775,
     "user": {
      "displayName": "Siddharth Singh Kiryal",
      "userId": "10746361124581070101"
     },
     "user_tz": -330
    },
    "id": "GjWqYansStBI"
   },
   "outputs": [],
   "source": [
    "labels = ['blues', 'classical', 'country', 'disco', 'Electric-Genre', 'hiphop', 'jazz', 'k-pop', 'metal', 'pop', 'reggae', 'rock']\n",
    "img_size = 256\n",
    "def get_data(data_dir, number_samples):\n",
    "    data = [] \n",
    "    for label in labels: \n",
    "        path = os.path.join(data_dir, label)\n",
    "        class_num = labels.index(label)\n",
    "        count = 1\n",
    "        for img in os.listdir(path):\n",
    "            if count<=number_samples:\n",
    "                try:\n",
    "                    img_arr = cv2.imread(os.path.join(path, img))[...,::-1] #convert BGR to RGB format\n",
    "                    resized_arr = cv2.resize(img_arr, (img_size, img_size)) # Reshaping images to preferred size\n",
    "                    data.append([resized_arr, class_num])\n",
    "                except Exception as e:\n",
    "                    print(e)\n",
    "                count = count + 1\n",
    "            else:\n",
    "                break\n",
    "    return np.array(data, dtype=\"object\")"
   ]
  },
  {
   "cell_type": "code",
   "execution_count": 14,
   "metadata": {
    "executionInfo": {
     "elapsed": 483190,
     "status": "ok",
     "timestamp": 1652782350241,
     "user": {
      "displayName": "Siddharth Singh Kiryal",
      "userId": "10746361124581070101"
     },
     "user_tz": -330
    },
    "id": "jZev-1aYS5tp"
   },
   "outputs": [],
   "source": [
    "train = get_data(path+'spectrogram/train', 100)\n",
    "val = get_data(path+'spectrogram/test', 100)"
   ]
  },
  {
   "cell_type": "code",
   "execution_count": null,
   "metadata": {},
   "outputs": [],
   "source": [
    "import pickle\n",
    "pickle.dump(train,open(path+'train.pkl', \"wb\"))\n",
    "pickle.dump(val,open(path+'val.pkl', \"wb\"))"
   ]
  },
  {
   "cell_type": "code",
   "execution_count": 15,
   "metadata": {
    "colab": {
     "base_uri": "https://localhost:8080/"
    },
    "executionInfo": {
     "elapsed": 103,
     "status": "ok",
     "timestamp": 1652782350244,
     "user": {
      "displayName": "Siddharth Singh Kiryal",
      "userId": "10746361124581070101"
     },
     "user_tz": -330
    },
    "id": "15OFQ-z3qvot",
    "outputId": "1e9c2d96-eabf-4f42-f71c-b572e4d44bb2",
    "scrolled": true
   },
   "outputs": [
    {
     "name": "stdout",
     "output_type": "stream",
     "text": [
      "Image shape (256, 256, 3)\n",
      "(720, 2)\n",
      "(480, 2)\n"
     ]
    }
   ],
   "source": [
    "#Displaying\n",
    "print(\"Image shape\", train[0][0].shape)\n",
    "image = train[0][0]\n",
    "#print(train)\n",
    "print(train.shape)\n",
    "print(val.shape)\n",
    "#cv2.imshow('image window',image)\n",
    "#cv2.waitKey(0); cv2.destroyAllWindows(); cv2.waitKey(1)"
   ]
  },
  {
   "cell_type": "code",
   "execution_count": 16,
   "metadata": {
    "executionInfo": {
     "elapsed": 2373,
     "status": "ok",
     "timestamp": 1652782352581,
     "user": {
      "displayName": "Siddharth Singh Kiryal",
      "userId": "10746361124581070101"
     },
     "user_tz": -330
    },
    "id": "aOMMXUMnTNAt"
   },
   "outputs": [],
   "source": [
    "x_train = []\n",
    "y_train = []\n",
    "x_val = []\n",
    "y_val = []\n",
    "mean_train = []\n",
    "sd_train = []\n",
    "mean_val = []\n",
    "sd_val = []\n",
    "\n",
    "\n",
    "for feature, label in train:\n",
    "    x_train.append(feature)\n",
    "    y_train.append(label)\n",
    "    mean_train.append(np.mean(feature))\n",
    "    sd_train.append(np.std(feature))\n",
    "    \n",
    "    \n",
    "for feature, label in val:\n",
    "    x_val.append(feature)\n",
    "    y_val.append(label)\n",
    "    mean_val.append(np.mean(feature))\n",
    "    sd_val.append(np.std(feature))\n",
    "\n",
    "x_train = np.array(x_train).astype('float64')\n",
    "x_val = np.array(x_val).astype('float64') \n",
    "mean_train = np.array(mean_train)\n",
    "sd_train = np.array(sd_train)\n",
    "mean_val = np.array(mean_val)\n",
    "sd_val = np.array(sd_val)\n",
    "\n",
    "for i in range(len(x_train)):\n",
    "    x_train[i] = np.divide(np.subtract(x_train[i], mean_train[i]), sd_train[i])\n",
    "\n",
    "for i in range(len(x_val)):\n",
    "    x_val[i] = np.divide(np.subtract(x_val[i], mean_val[i]), sd_val[i])\n",
    "\n",
    "x_train.reshape(-1, img_size, img_size, 1)\n",
    "y_train = np.array(y_train)\n",
    "\n",
    "x_val.reshape(-1, img_size, img_size, 1)\n",
    "y_val = np.array(y_val)"
   ]
  },
  {
   "cell_type": "code",
   "execution_count": null,
   "metadata": {},
   "outputs": [],
   "source": [
    "import pickle\n",
    "pickle.dump(x_train,open(path+'x_train.pkl', \"wb\"))\n",
    "pickle.dump(x_val,open(path+'x_val.pkl', \"wb\"))\n",
    "pickle.dump(y_train,open(path+'y_train.pkl', \"wb\"))\n",
    "pickle.dump(y_val,open(path+'y_val.pkl', \"wb\"))"
   ]
  },
  {
   "cell_type": "code",
   "execution_count": null,
   "metadata": {
    "id": "1hNlNXL5qvou"
   },
   "outputs": [],
   "source": [
    "print(x_train)\n",
    "print(x_val)\n",
    "print(y_train)\n",
    "print(y_val)"
   ]
  },
  {
   "cell_type": "code",
   "execution_count": 38,
   "metadata": {
    "executionInfo": {
     "elapsed": 803,
     "status": "ok",
     "timestamp": 1652783288323,
     "user": {
      "displayName": "Siddharth Singh Kiryal",
      "userId": "10746361124581070101"
     },
     "user_tz": -330
    },
    "id": "5HMhdmkUTebr"
   },
   "outputs": [],
   "source": [
    "datagen = ImageDataGenerator(\n",
    "        featurewise_center=False,  # set input mean to 0 over the dataset\n",
    "        samplewise_center=False,  # set each sample mean to 0\n",
    "        featurewise_std_normalization=False,  # divide inputs by std of the dataset\n",
    "        samplewise_std_normalization=False,  # divide each input by its std\n",
    "        zca_whitening=False,  # apply ZCA whitening\n",
    "        #rotation_range = 30,  # randomly rotate images in the range (degrees, 0 to 180)\n",
    "        zoom_range = 0.2, # Randomly zoom image \n",
    "        width_shift_range=0.1,  # randomly shift images horizontally (fraction of total width)\n",
    "        height_shift_range=0.1,  # randomly shift images vertically (fraction of total height)\n",
    "        #horizontal_flip = True,  # randomly flip images\n",
    "        vertical_flip=False)  # randomly flip images\n",
    "\n",
    "\n",
    "datagen.fit(x_train)"
   ]
  },
  {
   "cell_type": "code",
   "execution_count": 40,
   "metadata": {
    "colab": {
     "base_uri": "https://localhost:8080/"
    },
    "executionInfo": {
     "elapsed": 557,
     "status": "ok",
     "timestamp": 1652783307754,
     "user": {
      "displayName": "Siddharth Singh Kiryal",
      "userId": "10746361124581070101"
     },
     "user_tz": -330
    },
    "id": "frApKmq_Tnkk",
    "outputId": "b48b2756-86c7-485d-b070-0690602cd45a"
   },
   "outputs": [
    {
     "name": "stdout",
     "output_type": "stream",
     "text": [
      "Model: \"sequential_6\"\n",
      "_________________________________________________________________\n",
      " Layer (type)                Output Shape              Param #   \n",
      "=================================================================\n",
      " conv2d_16 (Conv2D)          (None, 254, 254, 32)      896       \n",
      "                                                                 \n",
      " max_pooling2d_15 (MaxPoolin  (None, 127, 127, 32)     0         \n",
      " g2D)                                                            \n",
      "                                                                 \n",
      " conv2d_17 (Conv2D)          (None, 125, 125, 32)      9248      \n",
      "                                                                 \n",
      " max_pooling2d_16 (MaxPoolin  (None, 63, 63, 32)       0         \n",
      " g2D)                                                            \n",
      "                                                                 \n",
      " conv2d_18 (Conv2D)          (None, 62, 62, 32)        4128      \n",
      "                                                                 \n",
      " max_pooling2d_17 (MaxPoolin  (None, 31, 31, 32)       0         \n",
      " g2D)                                                            \n",
      "                                                                 \n",
      " flatten_5 (Flatten)         (None, 30752)             0         \n",
      "                                                                 \n",
      " dense_12 (Dense)            (None, 64)                1968192   \n",
      "                                                                 \n",
      " dropout_5 (Dropout)         (None, 64)                0         \n",
      "                                                                 \n",
      " dense_13 (Dense)            (None, 12)                780       \n",
      "                                                                 \n",
      "=================================================================\n",
      "Total params: 1,983,244\n",
      "Trainable params: 1,983,244\n",
      "Non-trainable params: 0\n",
      "_________________________________________________________________\n"
     ]
    }
   ],
   "source": [
    "model = Sequential()\n",
    "\n",
    "model.add(Conv2D(32,(3, 3), activation=\"relu\", input_shape=(256,256,3)))\n",
    "model.add(MaxPool2D(pool_size=(3, 3), strides= (2,2), padding=\"same\"))\n",
    "BatchNormalization()\n",
    "\n",
    "model.add(Conv2D(32,(3, 3), activation=\"relu\"))\n",
    "model.add(MaxPool2D(pool_size=(3, 3), strides= (2,2), padding=\"same\"))\n",
    "BatchNormalization()\n",
    "\n",
    "model.add(Conv2D(32,(2, 2), activation=\"relu\"))\n",
    "model.add(MaxPool2D(pool_size=(2, 2), strides= (2,2), padding=\"same\"))\n",
    "BatchNormalization()\n",
    "\n",
    "model.add(Flatten())\n",
    "model.add(Dense(64, activation='relu'))\n",
    "model.add(Dropout(0.3))\n",
    "\n",
    "model.add(Dense(12, activation='softmax'))\n",
    "\n",
    "model.summary()"
   ]
  },
  {
   "cell_type": "code",
   "execution_count": 41,
   "metadata": {
    "executionInfo": {
     "elapsed": 658,
     "status": "ok",
     "timestamp": 1652783310948,
     "user": {
      "displayName": "Siddharth Singh Kiryal",
      "userId": "10746361124581070101"
     },
     "user_tz": -330
    },
    "id": "uJFFmPkVTr-f"
   },
   "outputs": [],
   "source": [
    "opt = Adam(learning_rate = 0.001)\n",
    "model.compile(optimizer = opt , loss = tf.keras.losses.SparseCategoricalCrossentropy() , metrics = ['accuracy'])"
   ]
  },
  {
   "cell_type": "code",
   "execution_count": 42,
   "metadata": {
    "colab": {
     "base_uri": "https://localhost:8080/"
    },
    "executionInfo": {
     "elapsed": 91967,
     "status": "ok",
     "timestamp": 1652783405628,
     "user": {
      "displayName": "Siddharth Singh Kiryal",
      "userId": "10746361124581070101"
     },
     "user_tz": -330
    },
    "id": "RciGH_6YTzlf",
    "outputId": "30f9865e-2f71-483f-956d-9617620eb657",
    "scrolled": true
   },
   "outputs": [
    {
     "name": "stdout",
     "output_type": "stream",
     "text": [
      "Epoch 1/52\n",
      "23/23 [==============================] - 3s 92ms/step - loss: 2.7526 - accuracy: 0.1319 - val_loss: 2.3545 - val_accuracy: 0.2313\n",
      "Epoch 2/52\n",
      "23/23 [==============================] - 2s 72ms/step - loss: 2.1726 - accuracy: 0.2403 - val_loss: 2.1728 - val_accuracy: 0.3083\n",
      "Epoch 3/52\n",
      "23/23 [==============================] - 2s 81ms/step - loss: 2.0165 - accuracy: 0.3139 - val_loss: 2.0704 - val_accuracy: 0.3167\n",
      "Epoch 4/52\n",
      "23/23 [==============================] - 2s 81ms/step - loss: 1.8376 - accuracy: 0.3444 - val_loss: 1.9092 - val_accuracy: 0.3354\n",
      "Epoch 5/52\n",
      "23/23 [==============================] - 2s 82ms/step - loss: 1.6849 - accuracy: 0.4028 - val_loss: 1.8988 - val_accuracy: 0.3604\n",
      "Epoch 6/52\n",
      "23/23 [==============================] - 2s 81ms/step - loss: 1.6110 - accuracy: 0.4139 - val_loss: 1.7664 - val_accuracy: 0.3958\n",
      "Epoch 7/52\n",
      "23/23 [==============================] - 2s 69ms/step - loss: 1.5177 - accuracy: 0.4306 - val_loss: 1.6899 - val_accuracy: 0.4250\n",
      "Epoch 8/52\n",
      "23/23 [==============================] - 2s 82ms/step - loss: 1.3976 - accuracy: 0.4792 - val_loss: 1.6795 - val_accuracy: 0.4375\n",
      "Epoch 9/52\n",
      "23/23 [==============================] - 2s 70ms/step - loss: 1.3377 - accuracy: 0.5153 - val_loss: 1.7388 - val_accuracy: 0.4187\n",
      "Epoch 10/52\n",
      "23/23 [==============================] - 2s 70ms/step - loss: 1.2970 - accuracy: 0.5139 - val_loss: 1.7317 - val_accuracy: 0.4083\n",
      "Epoch 11/52\n",
      "23/23 [==============================] - 2s 71ms/step - loss: 1.1754 - accuracy: 0.5569 - val_loss: 1.6848 - val_accuracy: 0.4229\n",
      "Epoch 12/52\n",
      "23/23 [==============================] - 2s 80ms/step - loss: 1.1654 - accuracy: 0.5486 - val_loss: 1.6949 - val_accuracy: 0.4229\n",
      "Epoch 13/52\n",
      "23/23 [==============================] - 2s 70ms/step - loss: 1.0450 - accuracy: 0.6042 - val_loss: 1.7525 - val_accuracy: 0.4292\n",
      "Epoch 14/52\n",
      "23/23 [==============================] - 2s 81ms/step - loss: 0.9824 - accuracy: 0.6528 - val_loss: 1.6943 - val_accuracy: 0.4625\n",
      "Epoch 15/52\n",
      "23/23 [==============================] - 2s 82ms/step - loss: 0.9206 - accuracy: 0.6569 - val_loss: 1.9173 - val_accuracy: 0.4146\n",
      "Epoch 16/52\n",
      "23/23 [==============================] - 2s 82ms/step - loss: 0.9444 - accuracy: 0.6528 - val_loss: 1.6653 - val_accuracy: 0.5208\n",
      "Epoch 17/52\n",
      "23/23 [==============================] - 2s 70ms/step - loss: 0.8410 - accuracy: 0.6708 - val_loss: 1.7165 - val_accuracy: 0.4625\n",
      "Epoch 18/52\n",
      "23/23 [==============================] - 2s 71ms/step - loss: 0.8831 - accuracy: 0.6667 - val_loss: 1.7227 - val_accuracy: 0.4792\n",
      "Epoch 19/52\n",
      "23/23 [==============================] - 2s 81ms/step - loss: 0.7714 - accuracy: 0.7111 - val_loss: 1.7193 - val_accuracy: 0.4792\n",
      "Epoch 20/52\n",
      "23/23 [==============================] - 2s 71ms/step - loss: 0.7340 - accuracy: 0.7194 - val_loss: 1.9105 - val_accuracy: 0.4625\n",
      "Epoch 21/52\n",
      "23/23 [==============================] - 2s 81ms/step - loss: 0.6554 - accuracy: 0.7514 - val_loss: 1.6932 - val_accuracy: 0.4875\n",
      "Epoch 22/52\n",
      "23/23 [==============================] - 2s 82ms/step - loss: 0.6777 - accuracy: 0.7472 - val_loss: 1.9714 - val_accuracy: 0.4938\n",
      "Epoch 23/52\n",
      "23/23 [==============================] - 2s 70ms/step - loss: 0.6707 - accuracy: 0.7500 - val_loss: 1.9395 - val_accuracy: 0.4792\n",
      "Epoch 24/52\n",
      "23/23 [==============================] - 2s 71ms/step - loss: 0.5714 - accuracy: 0.7903 - val_loss: 2.0086 - val_accuracy: 0.5000\n",
      "Epoch 25/52\n",
      "23/23 [==============================] - 2s 71ms/step - loss: 0.5885 - accuracy: 0.7806 - val_loss: 2.0186 - val_accuracy: 0.5021\n",
      "Epoch 26/52\n",
      "23/23 [==============================] - 2s 81ms/step - loss: 0.5341 - accuracy: 0.7972 - val_loss: 1.9472 - val_accuracy: 0.4854\n",
      "Epoch 27/52\n",
      "23/23 [==============================] - 2s 82ms/step - loss: 0.4457 - accuracy: 0.8292 - val_loss: 2.1387 - val_accuracy: 0.5083\n",
      "Epoch 28/52\n",
      "23/23 [==============================] - 2s 73ms/step - loss: 0.4989 - accuracy: 0.8222 - val_loss: 2.0457 - val_accuracy: 0.4938\n",
      "Epoch 29/52\n",
      "23/23 [==============================] - 2s 71ms/step - loss: 0.4530 - accuracy: 0.8167 - val_loss: 2.0584 - val_accuracy: 0.5188\n",
      "Epoch 30/52\n",
      "23/23 [==============================] - 2s 70ms/step - loss: 0.4798 - accuracy: 0.8056 - val_loss: 2.0155 - val_accuracy: 0.5271\n",
      "Epoch 31/52\n",
      "23/23 [==============================] - 2s 81ms/step - loss: 0.4227 - accuracy: 0.8417 - val_loss: 2.5522 - val_accuracy: 0.4729\n",
      "Epoch 32/52\n",
      "23/23 [==============================] - 2s 71ms/step - loss: 0.4205 - accuracy: 0.8458 - val_loss: 2.5952 - val_accuracy: 0.4563\n",
      "Epoch 33/52\n",
      "23/23 [==============================] - 2s 71ms/step - loss: 0.3575 - accuracy: 0.8708 - val_loss: 2.2589 - val_accuracy: 0.5083\n",
      "Epoch 34/52\n",
      "23/23 [==============================] - 2s 83ms/step - loss: 0.3608 - accuracy: 0.8569 - val_loss: 2.1102 - val_accuracy: 0.5188\n",
      "Epoch 35/52\n",
      "23/23 [==============================] - 2s 82ms/step - loss: 0.3353 - accuracy: 0.8847 - val_loss: 2.2446 - val_accuracy: 0.4917\n",
      "Epoch 36/52\n",
      "23/23 [==============================] - 2s 81ms/step - loss: 0.2936 - accuracy: 0.9014 - val_loss: 2.5728 - val_accuracy: 0.4854\n",
      "Epoch 37/52\n",
      "23/23 [==============================] - 2s 71ms/step - loss: 0.4137 - accuracy: 0.8361 - val_loss: 2.2039 - val_accuracy: 0.5208\n",
      "Epoch 38/52\n",
      "23/23 [==============================] - 2s 72ms/step - loss: 0.3353 - accuracy: 0.8764 - val_loss: 2.1588 - val_accuracy: 0.4979\n",
      "Epoch 39/52\n",
      "23/23 [==============================] - 2s 71ms/step - loss: 0.3114 - accuracy: 0.8708 - val_loss: 2.3798 - val_accuracy: 0.4979\n",
      "Epoch 40/52\n",
      "23/23 [==============================] - 2s 82ms/step - loss: 0.3646 - accuracy: 0.8528 - val_loss: 2.5507 - val_accuracy: 0.4917\n",
      "Epoch 41/52\n",
      "23/23 [==============================] - 2s 83ms/step - loss: 0.3711 - accuracy: 0.8625 - val_loss: 2.5130 - val_accuracy: 0.5042\n",
      "Epoch 42/52\n",
      "23/23 [==============================] - 2s 83ms/step - loss: 0.3651 - accuracy: 0.8639 - val_loss: 2.8099 - val_accuracy: 0.4979\n",
      "Epoch 43/52\n",
      "23/23 [==============================] - 2s 82ms/step - loss: 0.3863 - accuracy: 0.8514 - val_loss: 2.6253 - val_accuracy: 0.4771\n",
      "Epoch 44/52\n",
      "23/23 [==============================] - 2s 70ms/step - loss: 0.2950 - accuracy: 0.8917 - val_loss: 2.4841 - val_accuracy: 0.5125\n",
      "Epoch 45/52\n",
      "23/23 [==============================] - 2s 71ms/step - loss: 0.2980 - accuracy: 0.8889 - val_loss: 2.8011 - val_accuracy: 0.5021\n",
      "Epoch 46/52\n",
      "23/23 [==============================] - 2s 81ms/step - loss: 0.3047 - accuracy: 0.8806 - val_loss: 2.5879 - val_accuracy: 0.5104\n",
      "Epoch 47/52\n",
      "23/23 [==============================] - 2s 71ms/step - loss: 0.2770 - accuracy: 0.8833 - val_loss: 2.5322 - val_accuracy: 0.5208\n",
      "Epoch 48/52\n",
      "23/23 [==============================] - 2s 81ms/step - loss: 0.2558 - accuracy: 0.9014 - val_loss: 2.7607 - val_accuracy: 0.5000\n",
      "Epoch 49/52\n",
      "23/23 [==============================] - 2s 71ms/step - loss: 0.2452 - accuracy: 0.8986 - val_loss: 2.6285 - val_accuracy: 0.5000\n",
      "Epoch 50/52\n",
      "23/23 [==============================] - 2s 82ms/step - loss: 0.2492 - accuracy: 0.9014 - val_loss: 2.7256 - val_accuracy: 0.5417\n",
      "Epoch 51/52\n",
      "23/23 [==============================] - 2s 83ms/step - loss: 0.2133 - accuracy: 0.9139 - val_loss: 2.7512 - val_accuracy: 0.5000\n",
      "Epoch 52/52\n",
      "23/23 [==============================] - 2s 70ms/step - loss: 0.2592 - accuracy: 0.8806 - val_loss: 2.7321 - val_accuracy: 0.4896\n"
     ]
    }
   ],
   "source": [
    "epoch = 52\n",
    "history = model.fit(x_train,y_train,epochs = epoch, batch_size = 32, validation_data = (x_val, y_val))"
   ]
  },
  {
   "cell_type": "code",
   "execution_count": 43,
   "metadata": {
    "executionInfo": {
     "elapsed": 33,
     "status": "ok",
     "timestamp": 1652783405629,
     "user": {
      "displayName": "Siddharth Singh Kiryal",
      "userId": "10746361124581070101"
     },
     "user_tz": -330
    },
    "id": "EYRkEJTjmAiF"
   },
   "outputs": [],
   "source": [
    "import pickle\n",
    "model.save_weights(path+'model.cpkt')\n",
    "pickle.dump(history.history, open(path+'model.pkl','wb'))"
   ]
  },
  {
   "cell_type": "code",
   "execution_count": 44,
   "metadata": {
    "executionInfo": {
     "elapsed": 32,
     "status": "ok",
     "timestamp": 1652783405630,
     "user": {
      "displayName": "Siddharth Singh Kiryal",
      "userId": "10746361124581070101"
     },
     "user_tz": -330
    },
    "id": "H5Fqq2Bjqvoy"
   },
   "outputs": [],
   "source": [
    "model1 = pickle.load(open(path+'model.pkl', 'rb'))"
   ]
  },
  {
   "cell_type": "code",
   "execution_count": 45,
   "metadata": {
    "colab": {
     "base_uri": "https://localhost:8080/"
    },
    "executionInfo": {
     "elapsed": 33678,
     "status": "ok",
     "timestamp": 1652783439277,
     "user": {
      "displayName": "Siddharth Singh Kiryal",
      "userId": "10746361124581070101"
     },
     "user_tz": -330
    },
    "id": "w6p5QlAtqvoz",
    "outputId": "fc32089b-15ed-498b-f362-1530945df0fa"
   },
   "outputs": [
    {
     "name": "stdout",
     "output_type": "stream",
     "text": [
      "INFO:tensorflow:Assets written to: ram://9b494490-b03b-406e-8348-1bd23c5ef750/assets\n",
      "INFO:tensorflow:Assets written to: ram://adbc2940-d4db-4cc1-bdb7-9fd9f42c8891/assets\n"
     ]
    }
   ],
   "source": [
    "import pickle\n",
    "fileName1=\"model1.sav\"\n",
    "fileName2=\"model2.pkl\"\n",
    "pickle.dump(model,open(path+fileName1, \"wb\"))\n",
    "pickle.dump(model,open(path+fileName2, \"wb\"))"
   ]
  },
  {
   "cell_type": "code",
   "execution_count": 46,
   "metadata": {
    "executionInfo": {
     "elapsed": 64,
     "status": "ok",
     "timestamp": 1652783439279,
     "user": {
      "displayName": "Siddharth Singh Kiryal",
      "userId": "10746361124581070101"
     },
     "user_tz": -330
    },
    "id": "uY6P3Gtgqvoz"
   },
   "outputs": [],
   "source": [
    "model2 = pickle.load(open(path+\"model1.sav\", 'rb'))\n",
    "model3 = pickle.load(open(path+\"model2.pkl\", 'rb'))"
   ]
  },
  {
   "cell_type": "code",
   "execution_count": 47,
   "metadata": {
    "colab": {
     "base_uri": "https://localhost:8080/"
    },
    "executionInfo": {
     "elapsed": 65,
     "status": "ok",
     "timestamp": 1652783439282,
     "user": {
      "displayName": "Siddharth Singh Kiryal",
      "userId": "10746361124581070101"
     },
     "user_tz": -330
    },
    "id": "lB5fy0A1qvo0",
    "outputId": "37b5a2c7-cc11-4488-effb-61eeed1120d3"
   },
   "outputs": [
    {
     "name": "stdout",
     "output_type": "stream",
     "text": [
      "INFO:tensorflow:Assets written to: /content/drive/My Drive/Colab Notebooks/ml cnn project/model_using_saving/assets\n"
     ]
    }
   ],
   "source": [
    "import numpy as np\n",
    "import tensorflow as tf\n",
    "from tensorflow import keras\n",
    "model.save(path+'model_using_saving')"
   ]
  },
  {
   "cell_type": "code",
   "execution_count": 48,
   "metadata": {
    "executionInfo": {
     "elapsed": 60,
     "status": "ok",
     "timestamp": 1652783439285,
     "user": {
      "displayName": "Siddharth Singh Kiryal",
      "userId": "10746361124581070101"
     },
     "user_tz": -330
    },
    "id": "AamTEEQwqvo0"
   },
   "outputs": [],
   "source": [
    "from tensorflow import keras\n",
    "model_using_saving = keras.models.load_model(path+'model_using_saving')"
   ]
  },
  {
   "cell_type": "code",
   "execution_count": 49,
   "metadata": {
    "colab": {
     "base_uri": "https://localhost:8080/",
     "height": 380
    },
    "executionInfo": {
     "elapsed": 61,
     "status": "ok",
     "timestamp": 1652783439287,
     "user": {
      "displayName": "Siddharth Singh Kiryal",
      "userId": "10746361124581070101"
     },
     "user_tz": -330
    },
    "id": "3GJSYHmQT6EA",
    "outputId": "2bb4debc-f4e9-4e52-c5be-aba6b3fb9717"
   },
   "outputs": [
    {
     "data": {
      "image/png": "[encoded data removed]",
      "text/plain": [
       "<Figure size 1800x1080 with 2 Axes>"
      ]
     },
     "metadata": {
      "needs_background": "light"
     },
     "output_type": "display_data"
    }
   ],
   "source": [
    "acc = history.history['accuracy']\n",
    "val_acc = history.history['val_accuracy']\n",
    "loss = history.history['loss']\n",
    "val_loss = history.history['val_loss']\n",
    "\n",
    "epochs_range = range(epoch)\n",
    "\n",
    "plt.figure(figsize=(25, 15))\n",
    "plt.subplot(2, 2, 1)\n",
    "plt.plot(epochs_range, acc, label='Training Accuracy')\n",
    "plt.plot(epochs_range, val_acc, label='Validation Accuracy')\n",
    "plt.legend(loc='lower right')\n",
    "plt.title('Training and Validation Accuracy')\n",
    "\n",
    "plt.subplot(2, 2, 2)\n",
    "plt.plot(epochs_range, loss, label='Training Loss')\n",
    "plt.plot(epochs_range, val_loss, label='Validation Loss')\n",
    "plt.legend(loc='upper right')\n",
    "plt.title('Training and Validation Loss')\n",
    "plt.savefig(path+'accuracy_and_loss_1.png',bbox_inches = 'tight')\n",
    "plt.show()"
   ]
  },
  {
   "cell_type": "code",
   "execution_count": 50,
   "metadata": {
    "colab": {
     "base_uri": "https://localhost:8080/",
     "height": 420
    },
    "executionInfo": {
     "elapsed": 1360,
     "status": "ok",
     "timestamp": 1652783440592,
     "user": {
      "displayName": "Siddharth Singh Kiryal",
      "userId": "10746361124581070101"
     },
     "user_tz": -330
    },
    "id": "rSSZy4h5XwKg",
    "outputId": "35eba2ca-71df-43c6-f0cd-20a867cfd241"
   },
   "outputs": [
    {
     "data": {
      "image/png": "[encoded data removed]",
      "text/plain": [
       "<Figure size 1080x432 with 2 Axes>"
      ]
     },
     "metadata": {
      "needs_background": "light"
     },
     "output_type": "display_data"
    },
    {
     "data": {
      "text/plain": [
       "<Figure size 432x288 with 0 Axes>"
      ]
     },
     "metadata": {},
     "output_type": "display_data"
    }
   ],
   "source": [
    "import pickle\n",
    "history = pickle.load(open(path+'model.pkl','rb'))\n",
    "acc = history['accuracy']\n",
    "val_acc = history['val_accuracy']\n",
    "loss = history['loss']\n",
    "val_loss = history['val_loss']\n",
    "\n",
    "epochs_range = range(epoch)\n",
    "fig, (ax1, ax2) = plt.subplots(1,2, figsize=(15,6))\n",
    "plt.rc('xtick', labelsize=10)    # fontsize of the tick labels\n",
    "plt.rc('ytick', labelsize=10)\n",
    "ax1.plot(epochs_range, acc, label='Training Accuracy', c = '#4CAF50', linewidth=4)\n",
    "ax1.plot(epochs_range, val_acc, label='Validation Accuracy', c='red', linewidth=4)\n",
    "ax1.legend()\n",
    "ax1.set_title('Training and Validation Accuracy',fontsize=18)\n",
    "ax1.set_ylabel('Accuracy',fontsize=18)\n",
    "ax1.set_xlabel('Epoch',fontsize=18)\n",
    "\n",
    "ax2.plot(epochs_range, loss, label='Training Loss',c = '#4CAF50', linewidth=4)\n",
    "ax2.plot(epochs_range, val_loss, label='Validation Loss', c='red', linewidth=4)\n",
    "ax2.legend()\n",
    "ax2.set_title('Training and Validation Loss',fontsize=18)\n",
    "ax2.set_ylabel('Loss',fontsize=18)\n",
    "ax2.set_xlabel('Epoch',fontsize=18)\n",
    "fig.tight_layout(pad=3.0)\n",
    "plt.savefig(path+'accuracy_and_loss_2.png',bbox_inches = 'tight')\n",
    "plt.show()\n",
    "plt.clf()"
   ]
  },
  {
   "cell_type": "code",
   "execution_count": 51,
   "metadata": {
    "colab": {
     "base_uri": "https://localhost:8080/"
    },
    "executionInfo": {
     "elapsed": 681,
     "status": "ok",
     "timestamp": 1652783441253,
     "user": {
      "displayName": "Siddharth Singh Kiryal",
      "userId": "10746361124581070101"
     },
     "user_tz": -330
    },
    "id": "BLe4sDlebDiE",
    "outputId": "ce93f126-c91d-4272-a82a-250cb481bb97"
   },
   "outputs": [
    {
     "name": "stdout",
     "output_type": "stream",
     "text": [
      "                precision    recall  f1-score   support\n",
      "\n",
      "         blues       0.26      0.30      0.28        40\n",
      "     classical       0.77      0.85      0.81        40\n",
      "       country       0.25      0.33      0.29        40\n",
      "         disco       0.38      0.38      0.38        40\n",
      "Electric-Genre       0.80      0.70      0.75        40\n",
      "        hiphop       0.47      0.23      0.31        40\n",
      "          jazz       0.29      0.31      0.30        39\n",
      "         k-pop       0.77      0.90      0.83        41\n",
      "         metal       0.66      0.62      0.64        40\n",
      "           pop       0.80      0.60      0.69        40\n",
      "        reggae       0.29      0.50      0.36        40\n",
      "          rock       0.32      0.15      0.20        40\n",
      "\n",
      "      accuracy                           0.49       480\n",
      "     macro avg       0.51      0.49      0.49       480\n",
      "  weighted avg       0.51      0.49      0.49       480\n",
      "\n"
     ]
    }
   ],
   "source": [
    "predictions = np.argmax(model.predict(x_val), axis=-1)\n",
    "print(classification_report(y_val, predictions, target_names = labels))"
   ]
  },
  {
   "cell_type": "code",
   "execution_count": 52,
   "metadata": {
    "colab": {
     "base_uri": "https://localhost:8080/",
     "height": 490
    },
    "executionInfo": {
     "elapsed": 1261,
     "status": "ok",
     "timestamp": 1652783442508,
     "user": {
      "displayName": "Siddharth Singh Kiryal",
      "userId": "10746361124581070101"
     },
     "user_tz": -330
    },
    "id": "PbG03a-7Yayv",
    "outputId": "ec569a2f-5861-4f92-da4b-2707fe93e359"
   },
   "outputs": [
    {
     "data": {
      "image/png": "[encoded data removed]",
      "text/plain": [
       "<Figure size 720x504 with 2 Axes>"
      ]
     },
     "metadata": {
      "needs_background": "light"
     },
     "output_type": "display_data"
    }
   ],
   "source": [
    "cm1 = confusion_matrix(y_val, predictions)\n",
    "df_cm = pd.DataFrame(cm1, index = [i for i in labels],\n",
    "              columns = [i for i in labels])\n",
    "plt.figure(figsize = (10,7))\n",
    "sn.heatmap(df_cm, annot=True,cmap=\"RdPu\")\n",
    "plt.savefig(path+'confusion_mrtx_test.png',bbox_inches = 'tight')"
   ]
  },
  {
   "cell_type": "code",
   "execution_count": 53,
   "metadata": {
    "colab": {
     "base_uri": "https://localhost:8080/"
    },
    "executionInfo": {
     "elapsed": 60,
     "status": "ok",
     "timestamp": 1652783442511,
     "user": {
      "displayName": "Siddharth Singh Kiryal",
      "userId": "10746361124581070101"
     },
     "user_tz": -330
    },
    "id": "Bf5eSoVyqvo4",
    "outputId": "0ae81c5b-f987-42fb-cf36-a7d43f4c27be"
   },
   "outputs": [
    {
     "name": "stdout",
     "output_type": "stream",
     "text": [
      "Model: \"sequential_7\"\n",
      "_________________________________________________________________\n",
      " Layer (type)                Output Shape              Param #   \n",
      "=================================================================\n",
      " conv2d_19 (Conv2D)          (None, 254, 254, 32)      896       \n",
      "                                                                 \n",
      " max_pooling2d_18 (MaxPoolin  (None, 127, 127, 32)     0         \n",
      " g2D)                                                            \n",
      "                                                                 \n",
      " conv2d_20 (Conv2D)          (None, 125, 125, 32)      9248      \n",
      "                                                                 \n",
      " max_pooling2d_19 (MaxPoolin  (None, 63, 63, 32)       0         \n",
      " g2D)                                                            \n",
      "                                                                 \n",
      " conv2d_21 (Conv2D)          (None, 62, 62, 32)        4128      \n",
      "                                                                 \n",
      " max_pooling2d_20 (MaxPoolin  (None, 31, 31, 32)       0         \n",
      " g2D)                                                            \n",
      "                                                                 \n",
      " flatten_6 (Flatten)         (None, 30752)             0         \n",
      "                                                                 \n",
      " dense_14 (Dense)            (None, 64)                1968192   \n",
      "                                                                 \n",
      " dropout_6 (Dropout)         (None, 64)                0         \n",
      "                                                                 \n",
      " dense_15 (Dense)            (None, 12)                780       \n",
      "                                                                 \n",
      "=================================================================\n",
      "Total params: 1,983,244\n",
      "Trainable params: 1,983,244\n",
      "Non-trainable params: 0\n",
      "_________________________________________________________________\n"
     ]
    },
    {
     "data": {
      "text/plain": [
       "<tensorflow.python.training.tracking.util.CheckpointLoadStatus at 0x7f3c86f8f190>"
      ]
     },
     "execution_count": 53,
     "metadata": {},
     "output_type": "execute_result"
    }
   ],
   "source": [
    "model_load = Sequential()\n",
    "\n",
    "model_load.add(Conv2D(32,(3, 3), activation=\"relu\", input_shape=(256,256,3), kernel_initializer='random_normal', bias_initializer='zeros'))\n",
    "model_load.add(MaxPool2D(pool_size=(3, 3), strides= (2,2), padding=\"same\"))\n",
    "BatchNormalization()\n",
    "\n",
    "model_load.add(Conv2D(32,(3, 3), activation=\"relu\", kernel_initializer='random_normal', bias_initializer='zeros'))\n",
    "model_load.add(MaxPool2D(pool_size=(3, 3), strides= (2,2), padding=\"same\"))\n",
    "BatchNormalization()\n",
    "\n",
    "model_load.add(Conv2D(32,(2, 2), activation=\"relu\", kernel_initializer='random_normal', bias_initializer='zeros'))\n",
    "model_load.add(MaxPool2D(pool_size=(2, 2), strides= (2,2), padding=\"same\"))\n",
    "BatchNormalization()\n",
    "\n",
    "model_load.add(Flatten())\n",
    "model_load.add(Dense(64, activation='relu', kernel_initializer='random_normal', bias_initializer='zeros'))\n",
    "model_load.add(Dropout(0.3))\n",
    "model_load.add(Dense(12, activation='softmax', kernel_initializer='random_normal', bias_initializer='zeros'))\n",
    "\n",
    "model_load.summary()\n",
    "opt = Adam(learning_rate = 0.001)\n",
    "model_load.compile(optimizer = opt , loss = tf.keras.losses.SparseCategoricalCrossentropy() , metrics = ['accuracy'])\n",
    "model_load.load_weights(path+'model.cpkt')"
   ]
  },
  {
   "cell_type": "code",
   "execution_count": 54,
   "metadata": {
    "colab": {
     "base_uri": "https://localhost:8080/"
    },
    "executionInfo": {
     "elapsed": 1213,
     "status": "ok",
     "timestamp": 1652783443696,
     "user": {
      "displayName": "Siddharth Singh Kiryal",
      "userId": "10746361124581070101"
     },
     "user_tz": -330
    },
    "id": "S6k0SZYsqvo4",
    "outputId": "2e94e25b-8156-4e56-d963-484117e7c09e"
   },
   "outputs": [
    {
     "name": "stdout",
     "output_type": "stream",
     "text": [
      "Model: \"sequential_7\"\n",
      "_________________________________________________________________\n",
      " Layer (type)                Output Shape              Param #   \n",
      "=================================================================\n",
      " conv2d_19 (Conv2D)          (None, 254, 254, 32)      896       \n",
      "                                                                 \n",
      " max_pooling2d_18 (MaxPoolin  (None, 127, 127, 32)     0         \n",
      " g2D)                                                            \n",
      "                                                                 \n",
      " conv2d_20 (Conv2D)          (None, 125, 125, 32)      9248      \n",
      "                                                                 \n",
      " max_pooling2d_19 (MaxPoolin  (None, 63, 63, 32)       0         \n",
      " g2D)                                                            \n",
      "                                                                 \n",
      " conv2d_21 (Conv2D)          (None, 62, 62, 32)        4128      \n",
      "                                                                 \n",
      " max_pooling2d_20 (MaxPoolin  (None, 31, 31, 32)       0         \n",
      " g2D)                                                            \n",
      "                                                                 \n",
      " flatten_6 (Flatten)         (None, 30752)             0         \n",
      "                                                                 \n",
      " dense_14 (Dense)            (None, 64)                1968192   \n",
      "                                                                 \n",
      " dropout_6 (Dropout)         (None, 64)                0         \n",
      "                                                                 \n",
      " dense_15 (Dense)            (None, 12)                780       \n",
      "                                                                 \n",
      "=================================================================\n",
      "Total params: 1,983,244\n",
      "Trainable params: 1,983,244\n",
      "Non-trainable params: 0\n",
      "_________________________________________________________________\n"
     ]
    }
   ],
   "source": [
    "model_load.summary()"
   ]
  },
  {
   "cell_type": "code",
   "execution_count": 55,
   "metadata": {
    "colab": {
     "base_uri": "https://localhost:8080/"
    },
    "executionInfo": {
     "elapsed": 228,
     "status": "ok",
     "timestamp": 1652783443698,
     "user": {
      "displayName": "Siddharth Singh Kiryal",
      "userId": "10746361124581070101"
     },
     "user_tz": -330
    },
    "id": "niMXW5Wdqvo5",
    "outputId": "ad943c74-f8b7-4e7b-d80e-afd9ff889d77"
   },
   "outputs": [
    {
     "name": "stdout",
     "output_type": "stream",
     "text": [
      "Model: \"sequential_6\"\n",
      "_________________________________________________________________\n",
      " Layer (type)                Output Shape              Param #   \n",
      "=================================================================\n",
      " conv2d_16 (Conv2D)          (None, 254, 254, 32)      896       \n",
      "                                                                 \n",
      " max_pooling2d_15 (MaxPoolin  (None, 127, 127, 32)     0         \n",
      " g2D)                                                            \n",
      "                                                                 \n",
      " conv2d_17 (Conv2D)          (None, 125, 125, 32)      9248      \n",
      "                                                                 \n",
      " max_pooling2d_16 (MaxPoolin  (None, 63, 63, 32)       0         \n",
      " g2D)                                                            \n",
      "                                                                 \n",
      " conv2d_18 (Conv2D)          (None, 62, 62, 32)        4128      \n",
      "                                                                 \n",
      " max_pooling2d_17 (MaxPoolin  (None, 31, 31, 32)       0         \n",
      " g2D)                                                            \n",
      "                                                                 \n",
      " flatten_5 (Flatten)         (None, 30752)             0         \n",
      "                                                                 \n",
      " dense_12 (Dense)            (None, 64)                1968192   \n",
      "                                                                 \n",
      " dropout_5 (Dropout)         (None, 64)                0         \n",
      "                                                                 \n",
      " dense_13 (Dense)            (None, 12)                780       \n",
      "                                                                 \n",
      "=================================================================\n",
      "Total params: 1,983,244\n",
      "Trainable params: 1,983,244\n",
      "Non-trainable params: 0\n",
      "_________________________________________________________________\n"
     ]
    }
   ],
   "source": [
    "model2.summary()"
   ]
  },
  {
   "cell_type": "code",
   "execution_count": 56,
   "metadata": {
    "colab": {
     "base_uri": "https://localhost:8080/"
    },
    "executionInfo": {
     "elapsed": 195,
     "status": "ok",
     "timestamp": 1652783443699,
     "user": {
      "displayName": "Siddharth Singh Kiryal",
      "userId": "10746361124581070101"
     },
     "user_tz": -330
    },
    "id": "uYwSFAv-qvo5",
    "outputId": "125bdfb9-5ce4-491c-d967-a8c22e2f5273"
   },
   "outputs": [
    {
     "name": "stdout",
     "output_type": "stream",
     "text": [
      "Model: \"sequential_6\"\n",
      "_________________________________________________________________\n",
      " Layer (type)                Output Shape              Param #   \n",
      "=================================================================\n",
      " conv2d_16 (Conv2D)          (None, 254, 254, 32)      896       \n",
      "                                                                 \n",
      " max_pooling2d_15 (MaxPoolin  (None, 127, 127, 32)     0         \n",
      " g2D)                                                            \n",
      "                                                                 \n",
      " conv2d_17 (Conv2D)          (None, 125, 125, 32)      9248      \n",
      "                                                                 \n",
      " max_pooling2d_16 (MaxPoolin  (None, 63, 63, 32)       0         \n",
      " g2D)                                                            \n",
      "                                                                 \n",
      " conv2d_18 (Conv2D)          (None, 62, 62, 32)        4128      \n",
      "                                                                 \n",
      " max_pooling2d_17 (MaxPoolin  (None, 31, 31, 32)       0         \n",
      " g2D)                                                            \n",
      "                                                                 \n",
      " flatten_5 (Flatten)         (None, 30752)             0         \n",
      "                                                                 \n",
      " dense_12 (Dense)            (None, 64)                1968192   \n",
      "                                                                 \n",
      " dropout_5 (Dropout)         (None, 64)                0         \n",
      "                                                                 \n",
      " dense_13 (Dense)            (None, 12)                780       \n",
      "                                                                 \n",
      "=================================================================\n",
      "Total params: 1,983,244\n",
      "Trainable params: 1,983,244\n",
      "Non-trainable params: 0\n",
      "_________________________________________________________________\n"
     ]
    }
   ],
   "source": [
    "model3.summary()"
   ]
  },
  {
   "cell_type": "code",
   "execution_count": 57,
   "metadata": {
    "colab": {
     "base_uri": "https://localhost:8080/"
    },
    "executionInfo": {
     "elapsed": 130,
     "status": "ok",
     "timestamp": 1652783443700,
     "user": {
      "displayName": "Siddharth Singh Kiryal",
      "userId": "10746361124581070101"
     },
     "user_tz": -330
    },
    "id": "e3Q02nTSqvo6",
    "outputId": "a112a55f-8533-4d29-c800-6b21bf9c14e9"
   },
   "outputs": [
    {
     "name": "stdout",
     "output_type": "stream",
     "text": [
      "Model: \"sequential_6\"\n",
      "_________________________________________________________________\n",
      " Layer (type)                Output Shape              Param #   \n",
      "=================================================================\n",
      " conv2d_16 (Conv2D)          (None, 254, 254, 32)      896       \n",
      "                                                                 \n",
      " max_pooling2d_15 (MaxPoolin  (None, 127, 127, 32)     0         \n",
      " g2D)                                                            \n",
      "                                                                 \n",
      " conv2d_17 (Conv2D)          (None, 125, 125, 32)      9248      \n",
      "                                                                 \n",
      " max_pooling2d_16 (MaxPoolin  (None, 63, 63, 32)       0         \n",
      " g2D)                                                            \n",
      "                                                                 \n",
      " conv2d_18 (Conv2D)          (None, 62, 62, 32)        4128      \n",
      "                                                                 \n",
      " max_pooling2d_17 (MaxPoolin  (None, 31, 31, 32)       0         \n",
      " g2D)                                                            \n",
      "                                                                 \n",
      " flatten_5 (Flatten)         (None, 30752)             0         \n",
      "                                                                 \n",
      " dense_12 (Dense)            (None, 64)                1968192   \n",
      "                                                                 \n",
      " dropout_5 (Dropout)         (None, 64)                0         \n",
      "                                                                 \n",
      " dense_13 (Dense)            (None, 12)                780       \n",
      "                                                                 \n",
      "=================================================================\n",
      "Total params: 1,983,244\n",
      "Trainable params: 1,983,244\n",
      "Non-trainable params: 0\n",
      "_________________________________________________________________\n"
     ]
    }
   ],
   "source": [
    "model_using_saving.summary()"
   ]
  },
  {
   "cell_type": "code",
   "execution_count": 58,
   "metadata": {
    "colab": {
     "base_uri": "https://localhost:8080/",
     "height": 872
    },
    "executionInfo": {
     "elapsed": 2834,
     "status": "ok",
     "timestamp": 1652783446458,
     "user": {
      "displayName": "Siddharth Singh Kiryal",
      "userId": "10746361124581070101"
     },
     "user_tz": -330
    },
    "id": "6jZ4ZOg_qvo6",
    "outputId": "2cbb334b-5f96-4560-b539-bf2fe36e5d09"
   },
   "outputs": [
    {
     "name": "stdout",
     "output_type": "stream",
     "text": [
      "15/15 [==============================] - 1s 29ms/step - loss: 2.7321 - accuracy: 0.4896\n",
      "Restored model, test accuracy: 48.96%\n",
      "Restored model, test loss:  2.73%\n",
      "                precision    recall  f1-score   support\n",
      "\n",
      "         blues       0.26      0.30      0.28        40\n",
      "     classical       0.77      0.85      0.81        40\n",
      "       country       0.25      0.33      0.29        40\n",
      "         disco       0.38      0.38      0.38        40\n",
      "Electric-Genre       0.80      0.70      0.75        40\n",
      "        hiphop       0.47      0.23      0.31        40\n",
      "          jazz       0.29      0.31      0.30        39\n",
      "         k-pop       0.77      0.90      0.83        41\n",
      "         metal       0.66      0.62      0.64        40\n",
      "           pop       0.80      0.60      0.69        40\n",
      "        reggae       0.29      0.50      0.36        40\n",
      "          rock       0.32      0.15      0.20        40\n",
      "\n",
      "      accuracy                           0.49       480\n",
      "     macro avg       0.51      0.49      0.49       480\n",
      "  weighted avg       0.51      0.49      0.49       480\n",
      "\n"
     ]
    },
    {
     "data": {
      "image/png": "[encoded data removed]",
      "text/plain": [
       "<Figure size 720x504 with 2 Axes>"
      ]
     },
     "metadata": {
      "needs_background": "light"
     },
     "output_type": "display_data"
    }
   ],
   "source": [
    "# Evaluate the restored model\n",
    "loss, acc = model_load.evaluate(x_val, y_val, verbose=1)\n",
    "print('Restored model, test accuracy: {:5.2f}%'.format(100 * acc))\n",
    "print('Restored model, test loss: {:5.2f}%'.format(loss))\n",
    "predictions = np.argmax(model_load.predict(x_val), axis=-1)\n",
    "print(classification_report(y_val, predictions, target_names = labels))\n",
    "\n",
    "cm1 = confusion_matrix(y_val, predictions)\n",
    "df_cm = pd.DataFrame(cm1, index = [i for i in labels],\n",
    "              columns = [i for i in labels])\n",
    "plt.figure(figsize = (10,7))\n",
    "sn.heatmap(df_cm, annot=True,cmap=\"RdPu\")\n",
    "#plt.savefig(path+'confusion_mrtx_test_load.png',bbox_inches = 'tight')"
   ]
  },
  {
   "cell_type": "code",
   "execution_count": 59,
   "metadata": {
    "colab": {
     "base_uri": "https://localhost:8080/",
     "height": 876
    },
    "executionInfo": {
     "elapsed": 4234,
     "status": "ok",
     "timestamp": 1652783450626,
     "user": {
      "displayName": "Siddharth Singh Kiryal",
      "userId": "10746361124581070101"
     },
     "user_tz": -330
    },
    "id": "EqPVjA_6qvo7",
    "outputId": "df83571d-0c5a-47f5-acb1-6d094efbe236"
   },
   "outputs": [
    {
     "name": "stdout",
     "output_type": "stream",
     "text": [
      "23/23 [==============================] - 1s 31ms/step - loss: 0.0495 - accuracy: 0.9903\n",
      "Restored model, train accuracy: 99.03%\n",
      "Restored model, train loss:  0.05%\n",
      "                precision    recall  f1-score   support\n",
      "\n",
      "         blues       0.98      1.00      0.99        60\n",
      "     classical       0.98      1.00      0.99        60\n",
      "       country       0.97      1.00      0.98        60\n",
      "         disco       1.00      1.00      1.00        60\n",
      "Electric-Genre       1.00      0.97      0.98        60\n",
      "        hiphop       1.00      0.98      0.99        60\n",
      "          jazz       1.00      0.95      0.97        60\n",
      "         k-pop       0.97      1.00      0.98        60\n",
      "         metal       0.98      1.00      0.99        60\n",
      "           pop       1.00      1.00      1.00        60\n",
      "        reggae       1.00      1.00      1.00        60\n",
      "          rock       1.00      0.98      0.99        60\n",
      "\n",
      "      accuracy                           0.99       720\n",
      "     macro avg       0.99      0.99      0.99       720\n",
      "  weighted avg       0.99      0.99      0.99       720\n",
      "\n"
     ]
    },
    {
     "data": {
      "image/png": "[encoded data removed]",
      "text/plain": [
       "<Figure size 720x504 with 2 Axes>"
      ]
     },
     "metadata": {
      "needs_background": "light"
     },
     "output_type": "display_data"
    }
   ],
   "source": [
    "loss1, acc1 = model_load.evaluate(x_train, y_train, verbose=1)\n",
    "print('Restored model, train accuracy: {:5.2f}%'.format(100 * acc1))\n",
    "print('Restored model, train loss: {:5.2f}%'.format(loss1))\n",
    "predictions = np.argmax(model_load.predict(x_train), axis=-1)\n",
    "print(classification_report(y_train, predictions, target_names = labels))\n",
    "\n",
    "cm1 = confusion_matrix(y_train, predictions)\n",
    "df_cm = pd.DataFrame(cm1, index = [i for i in labels],\n",
    "              columns = [i for i in labels])\n",
    "plt.figure(figsize = (10,7))\n",
    "sn.heatmap(df_cm, annot=True,cmap=\"RdPu\")\n",
    "#plt.savefig(path+'confusion_mrtx_train_load.png',bbox_inches = 'tight')"
   ]
  }
 ],
 "metadata": {
  "accelerator": "GPU",
  "colab": {
   "collapsed_sections": [],
   "name": "CNN.ipynb",
   "provenance": []
  },
  "kernelspec": {
   "display_name": "Python 3 (ipykernel)",
   "language": "python",
   "name": "python3"
  },
  "language_info": {
   "codemirror_mode": {
    "name": "ipython",
    "version": 3
   },
   "file_extension": ".py",
   "mimetype": "text/x-python",
   "name": "python",
   "nbconvert_exporter": "python",
   "pygments_lexer": "ipython3",
   "version": "3.9.12"
  }
 },
 "nbformat": 4,
 "nbformat_minor": 1
}
